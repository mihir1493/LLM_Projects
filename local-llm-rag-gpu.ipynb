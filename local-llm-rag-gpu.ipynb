{
 "cells": [
  {
   "cell_type": "markdown",
   "metadata": {},
   "source": [
    "## Create a Local RAG for Documentation Search - Q&A Inference Pipeline (Tensorflow+Huggingface)\n"
   ]
  },
  {
   "cell_type": "markdown",
   "metadata": {},
   "source": [
    "#### - Usecase : Company Internal Document Chat"
   ]
  },
  {
   "cell_type": "code",
   "execution_count": 4,
   "metadata": {},
   "outputs": [],
   "source": [
    "import torch"
   ]
  },
  {
   "cell_type": "code",
   "execution_count": 5,
   "metadata": {},
   "outputs": [
    {
     "name": "stdout",
     "output_type": "stream",
     "text": [
      "Sun Jul 14 09:21:01 2024       \n",
      "+-----------------------------------------------------------------------------------------+\n",
      "| NVIDIA-SMI 556.12                 Driver Version: 556.12         CUDA Version: 12.5     |\n",
      "|-----------------------------------------+------------------------+----------------------+\n",
      "| GPU  Name                  Driver-Model | Bus-Id          Disp.A | Volatile Uncorr. ECC |\n",
      "| Fan  Temp   Perf          Pwr:Usage/Cap |           Memory-Usage | GPU-Util  Compute M. |\n",
      "|                                         |                        |               MIG M. |\n",
      "|=========================================+========================+======================|\n",
      "|   0  NVIDIA GeForce GTX 1080 Ti   WDDM  |   00000000:01:00.0  On |                  N/A |\n",
      "|  0%   30C    P8             18W /  250W |    1394MiB /  11264MiB |      6%      Default |\n",
      "|                                         |                        |                  N/A |\n",
      "+-----------------------------------------+------------------------+----------------------+\n",
      "                                                                                         \n",
      "+-----------------------------------------------------------------------------------------+\n",
      "| Processes:                                                                              |\n",
      "|  GPU   GI   CI        PID   Type   Process name                              GPU Memory |\n",
      "|        ID   ID                                                               Usage      |\n",
      "|=========================================================================================|\n",
      "|    0   N/A  N/A      1352    C+G   C:\\Windows\\System32\\dwm.exe                 N/A      |\n",
      "|    0   N/A  N/A      4636    C+G   ...tionsPlus\\logioptionsplus_agent.exe      N/A      |\n",
      "|    0   N/A  N/A      5808    C+G   C:\\Windows\\explorer.exe                     N/A      |\n",
      "|    0   N/A  N/A      7400    C+G   ....Search_cw5n1h2txyewy\\SearchApp.exe      N/A      |\n",
      "|    0   N/A  N/A      8048    C+G   ...siveControlPanel\\SystemSettings.exe      N/A      |\n",
      "|    0   N/A  N/A      8680    C+G   ...5n1h2txyewy\\ShellExperienceHost.exe      N/A      |\n",
      "|    0   N/A  N/A     10180    C+G   ...oogle\\Chrome\\Application\\chrome.exe      N/A      |\n",
      "|    0   N/A  N/A     10648    C+G   ...CBS_cw5n1h2txyewy\\TextInputHost.exe      N/A      |\n",
      "|    0   N/A  N/A     11272    C+G   ...GeForce Experience\\NVIDIA Share.exe      N/A      |\n",
      "|    0   N/A  N/A     11684    C+G   ...\\cef\\cef.win7x64\\steamwebhelper.exe      N/A      |\n",
      "|    0   N/A  N/A     11896    C+G   ...\\cef\\cef.win7x64\\steamwebhelper.exe      N/A      |\n",
      "|    0   N/A  N/A     12244    C+G   ...ograms\\cron-web\\Notion Calendar.exe      N/A      |\n",
      "|    0   N/A  N/A     13684    C+G   ...ekyb3d8bbwe\\PhoneExperienceHost.exe      N/A      |\n",
      "|    0   N/A  N/A     14268    C+G   ...mpt_builder\\LogiAiPromptBuilder.exe      N/A      |\n",
      "|    0   N/A  N/A     20688    C+G   ...n\\126.0.2592.102\\msedgewebview2.exe      N/A      |\n",
      "+-----------------------------------------------------------------------------------------+\n"
     ]
    }
   ],
   "source": [
    "!nvidia-smi"
   ]
  },
  {
   "cell_type": "markdown",
   "metadata": {},
   "source": [
    "#### Outline Steps:\n",
    "* [Open a PDF Document](#first-bullet) \n",
    "* [Format the Text of PDF to be fit for Embedding Model](#second-bullet)\n",
    "* [Embed all chunks of the text and turn them into numerical representation](#third-bullet) \n",
    "* [Build a retreival model that uses vector search to find relevant piece of chunks based on user query](#fourth-bullet)\n",
    "* [Create a prompt that has the retreived piece of text](#fifth-bullet)\n",
    "* [Generate a answer based on the returned output](#sixth-bullet) "
   ]
  },
  {
   "cell_type": "markdown",
   "metadata": {},
   "source": [
    "## Open a PDF Document <a class=\"anchor\" id=\"#first-bullet\"></a>"
   ]
  },
  {
   "cell_type": "code",
   "execution_count": 28,
   "metadata": {},
   "outputs": [],
   "source": [
    "pdf_name = \"FY24_AnnualReport__FINAL-web.pdf\""
   ]
  },
  {
   "cell_type": "code",
   "execution_count": 3,
   "metadata": {},
   "outputs": [
    {
     "name": "stdout",
     "output_type": "stream",
     "text": [
      "[INFO] File doesn't exist, downloading...\n",
      "[INFO] The file has been downloaded and saved as FY24_AnnualReport__FINAL-web.pdf\n"
     ]
    }
   ],
   "source": [
    "import os\n",
    "import requests\n",
    "\n",
    "if not os.path.exists(pdf_name):\n",
    "    print(f\"[INFO] File doesn't exist, downloading...\")\n",
    "\n",
    "    url = \"https://s203.q4cdn.com/703080298/files/doc_financials/2024/ar/FY24_AnnualReport__FINAL-web.pdf\"\n",
    "\n",
    "    filename = pdf_name\n",
    "    response = requests.get(url)\n",
    "    if response.status_code == 200:\n",
    "        with open(filename, \"wb\") as file:\n",
    "            file.write(response.content)\n",
    "        print(f\"[INFO] The file has been downloaded and saved as {filename}\")\n",
    "    else:\n",
    "        print(f\"[INFO] Failed to download file. Error Status Code: {response.status_code}\")\n",
    "\n",
    "else:\n",
    "    print(f\"File {pdf_name} exists.\")"
   ]
  },
  {
   "cell_type": "code",
   "execution_count": 39,
   "metadata": {},
   "outputs": [
    {
     "data": {
      "application/vnd.jupyter.widget-view+json": {
       "model_id": "0a6f6f5943cf42538d959bd62fdb108b",
       "version_major": 2,
       "version_minor": 0
      },
      "text/plain": [
       "0it [00:00, ?it/s]"
      ]
     },
     "metadata": {},
     "output_type": "display_data"
    },
    {
     "name": "stdout",
     "output_type": "stream",
     "text": [
      "[{'page_number': -8, 'page_chat_count': 0, 'page_word_count': 1, 'page_sentence_count': 1, 'page_token_count': 0.0, 'text': ''}]\n"
     ]
    }
   ],
   "source": [
    "import fitz\n",
    "from tqdm.auto import tqdm\n",
    "\n",
    "def text_formatter(text: str) -> str:\n",
    "    \"\"\"Performs minor formatting on text.\"\"\"\n",
    "    cleaned_text = text.replace(\"\\n\", \" \").strip()\n",
    "    return cleaned_text\n",
    "\n",
    "def open_read_pdf(pdf_name: str) -> list[dict]:\n",
    "    doc = fitz.open(pdf_name)\n",
    "    page_texts = []\n",
    "    for page_number, page in tqdm(enumerate(doc)):\n",
    "        text = page.get_text()\n",
    "        text = text_formatter(text)\n",
    "        page_texts.append({\n",
    "            \"page_number\": page_number - 8,\n",
    "            \"page_chat_count\": len(text),\n",
    "            \"page_word_count\": len(text.split(\" \")),\n",
    "            \"page_sentence_count\": len(text.split(\". \")),\n",
    "            \"page_token_count\": len(text) / 4,  # 1 Token = ~4 Char\n",
    "            \"text\": text\n",
    "        })\n",
    "    return page_texts\n",
    "\n",
    "# Define the path to your PDF file\n",
    "\n",
    "# Call the function to read the PDF\n",
    "page_texts = open_read_pdf(pdf_name)\n",
    "\n",
    "# Print the text of the first page\n",
    "print(page_texts[:1])"
   ]
  },
  {
   "cell_type": "code",
   "execution_count": 41,
   "metadata": {},
   "outputs": [
    {
     "data": {
      "text/plain": [
       "[{'page_number': 86,\n",
       "  'page_chat_count': 3193,\n",
       "  'page_word_count': 578,\n",
       "  'page_sentence_count': 19,\n",
       "  'page_token_count': 798.25,\n",
       "  'text': 'Under the 2020 Plan, we have the option to settle share-based awards by issuing common shares from treasury, issuing new  Company common shares, or issuing a combination of common shares from treasury and new Company common shares. Stock Options: Under the 2020 Plan, we granted 84,568, 113,970, and 152,971 stock options during 2024, 2023, and 2022,  respectively. Stock options granted in 2024, 2023, and 2022 vest ratably over a period of three years. The exercise price of all  stock options granted was equal to the market value of the shares on the date of grant, and all stock options granted and  outstanding have a contractual term of 10 years. The fair value of each stock option is estimated on the date of grant using a Black-Scholes option-pricing model with the  following weighted-average assumptions for stock options granted:  2024 2023 2022 Expected volatility  25.0 %  25.0 %  24.0 % Dividend yield  2.7 %  3.1 %  2.7 % Risk-free interest rate  3.9 %  3.6 %  1.0 % Expected life of stock options (years) 6.0 6.0 6.0 Expected volatility was calculated in accordance with the provisions of FASB ASC 718, Compensation – Stock  Compensation, based on consideration of both historical and implied volatilities. The expected life of a stock option  represents the period from the grant date through the expected exercise date of the option. This was calculated using a  simplified method whereby the midpoint between the vesting date and the end of the contractual term is utilized to compute  the expected term.  The following table is a summary of our stock option activity. Number of  Stock Options Weighted-Average Exercise Price Outstanding at May 1, 2023   606,478 $  121.33  Granted   84,568   153.26  Exercised   (26,434)   120.18  Cancelled   (7,653)   140.62  Outstanding at April 30, 2024   656,959 $  125.40  Exercisable at April 30, 2024   476,110 $  119.96  The intrinsic value of a stock option is the amount by which the market value of the underlying stock exceeds the exercise  price of the stock option. The total intrinsic value for both stock options outstanding and exercisable was $1.2 at April 30,  2024, with an average remaining contractual term of 5.7 years and 5.8 years, respectively. The total intrinsic value of stock  options exercised during 2024, 2023, and 2022 was $0.1, $8.6, and $3.6, respectively. The closing market price of our  common stock on the last trading day of 2024 was $114.85 per share. The stock options granted during 2024 have a  weighted-average grant date fair value of $33.94 per option.  Compensation cost related to stock options is recognized ratably over the service period from the grant date through the end  of the requisite service period. During 2024, 2023, and 2022, we recognized compensation cost of $2.8, $3.1, and $3.0,  respectively. The annual tax benefit related to the stock option expense was $0.7 for 2024, 2023, and 2022. As of April 30,  2024, we had unrecognized compensation cost of $2.9 related to the stock options that were granted in 2024, 2023, and 2022.   Cash received from stock option exercises was $3.2, $21.6, and $16.3 for the years ended April 30, 2024, 2023, and 2022,  respectively. 86'}]"
      ]
     },
     "execution_count": 41,
     "metadata": {},
     "output_type": "execute_result"
    }
   ],
   "source": [
    "import random\n",
    "random.sample(page_texts, k=1 )"
   ]
  },
  {
   "cell_type": "code",
   "execution_count": 43,
   "metadata": {},
   "outputs": [
    {
     "data": {
      "text/html": [
       "<div>\n",
       "<style scoped>\n",
       "    .dataframe tbody tr th:only-of-type {\n",
       "        vertical-align: middle;\n",
       "    }\n",
       "\n",
       "    .dataframe tbody tr th {\n",
       "        vertical-align: top;\n",
       "    }\n",
       "\n",
       "    .dataframe thead th {\n",
       "        text-align: right;\n",
       "    }\n",
       "</style>\n",
       "<table border=\"1\" class=\"dataframe\">\n",
       "  <thead>\n",
       "    <tr style=\"text-align: right;\">\n",
       "      <th></th>\n",
       "      <th>page_number</th>\n",
       "      <th>page_chat_count</th>\n",
       "      <th>page_word_count</th>\n",
       "      <th>page_sentence_count</th>\n",
       "      <th>page_token_count</th>\n",
       "      <th>text</th>\n",
       "    </tr>\n",
       "  </thead>\n",
       "  <tbody>\n",
       "    <tr>\n",
       "      <th>0</th>\n",
       "      <td>-8</td>\n",
       "      <td>0</td>\n",
       "      <td>1</td>\n",
       "      <td>1</td>\n",
       "      <td>0.00</td>\n",
       "      <td></td>\n",
       "    </tr>\n",
       "    <tr>\n",
       "      <th>1</th>\n",
       "      <td>-7</td>\n",
       "      <td>1</td>\n",
       "      <td>1</td>\n",
       "      <td>1</td>\n",
       "      <td>0.25</td>\n",
       "      <td>1</td>\n",
       "    </tr>\n",
       "    <tr>\n",
       "      <th>2</th>\n",
       "      <td>-6</td>\n",
       "      <td>3905</td>\n",
       "      <td>666</td>\n",
       "      <td>19</td>\n",
       "      <td>976.25</td>\n",
       "      <td>3 F i s c a l  Ye a r 2 0 2 4 A nnual Rep ort ...</td>\n",
       "    </tr>\n",
       "    <tr>\n",
       "      <th>3</th>\n",
       "      <td>-5</td>\n",
       "      <td>3614</td>\n",
       "      <td>638</td>\n",
       "      <td>19</td>\n",
       "      <td>903.50</td>\n",
       "      <td>F i s c a l  Ye a r 2 0 2 4 A nnual Rep ort   ...</td>\n",
       "    </tr>\n",
       "    <tr>\n",
       "      <th>4</th>\n",
       "      <td>-4</td>\n",
       "      <td>5084</td>\n",
       "      <td>900</td>\n",
       "      <td>28</td>\n",
       "      <td>1271.00</td>\n",
       "      <td>Playing to Win  There are countless examples o...</td>\n",
       "    </tr>\n",
       "  </tbody>\n",
       "</table>\n",
       "</div>"
      ],
      "text/plain": [
       "   page_number  page_chat_count  page_word_count  page_sentence_count  \\\n",
       "0           -8                0                1                    1   \n",
       "1           -7                1                1                    1   \n",
       "2           -6             3905              666                   19   \n",
       "3           -5             3614              638                   19   \n",
       "4           -4             5084              900                   28   \n",
       "\n",
       "   page_token_count                                               text  \n",
       "0              0.00                                                     \n",
       "1              0.25                                                  1  \n",
       "2            976.25  3 F i s c a l  Ye a r 2 0 2 4 A nnual Rep ort ...  \n",
       "3            903.50  F i s c a l  Ye a r 2 0 2 4 A nnual Rep ort   ...  \n",
       "4           1271.00  Playing to Win  There are countless examples o...  "
      ]
     },
     "execution_count": 43,
     "metadata": {},
     "output_type": "execute_result"
    }
   ],
   "source": [
    "import pandas as pd\n",
    "df = pd.DataFrame(page_texts)\n",
    "df.head()"
   ]
  },
  {
   "cell_type": "code",
   "execution_count": 46,
   "metadata": {},
   "outputs": [
    {
     "data": {
      "text/html": [
       "<div>\n",
       "<style scoped>\n",
       "    .dataframe tbody tr th:only-of-type {\n",
       "        vertical-align: middle;\n",
       "    }\n",
       "\n",
       "    .dataframe tbody tr th {\n",
       "        vertical-align: top;\n",
       "    }\n",
       "\n",
       "    .dataframe thead th {\n",
       "        text-align: right;\n",
       "    }\n",
       "</style>\n",
       "<table border=\"1\" class=\"dataframe\">\n",
       "  <thead>\n",
       "    <tr style=\"text-align: right;\">\n",
       "      <th></th>\n",
       "      <th>page_number</th>\n",
       "      <th>page_chat_count</th>\n",
       "      <th>page_word_count</th>\n",
       "      <th>page_sentence_count</th>\n",
       "      <th>page_token_count</th>\n",
       "    </tr>\n",
       "  </thead>\n",
       "  <tbody>\n",
       "    <tr>\n",
       "      <th>count</th>\n",
       "      <td>108.00000</td>\n",
       "      <td>108.000000</td>\n",
       "      <td>108.000000</td>\n",
       "      <td>108.000000</td>\n",
       "      <td>108.000000</td>\n",
       "    </tr>\n",
       "    <tr>\n",
       "      <th>mean</th>\n",
       "      <td>45.50000</td>\n",
       "      <td>3937.398148</td>\n",
       "      <td>657.546296</td>\n",
       "      <td>22.509259</td>\n",
       "      <td>984.349537</td>\n",
       "    </tr>\n",
       "    <tr>\n",
       "      <th>std</th>\n",
       "      <td>31.32092</td>\n",
       "      <td>1431.126326</td>\n",
       "      <td>215.169283</td>\n",
       "      <td>9.540367</td>\n",
       "      <td>357.781581</td>\n",
       "    </tr>\n",
       "    <tr>\n",
       "      <th>min</th>\n",
       "      <td>-8.00000</td>\n",
       "      <td>0.000000</td>\n",
       "      <td>1.000000</td>\n",
       "      <td>1.000000</td>\n",
       "      <td>0.000000</td>\n",
       "    </tr>\n",
       "    <tr>\n",
       "      <th>25%</th>\n",
       "      <td>18.75000</td>\n",
       "      <td>3003.000000</td>\n",
       "      <td>530.250000</td>\n",
       "      <td>16.000000</td>\n",
       "      <td>750.750000</td>\n",
       "    </tr>\n",
       "    <tr>\n",
       "      <th>50%</th>\n",
       "      <td>45.50000</td>\n",
       "      <td>3897.000000</td>\n",
       "      <td>694.000000</td>\n",
       "      <td>24.000000</td>\n",
       "      <td>974.250000</td>\n",
       "    </tr>\n",
       "    <tr>\n",
       "      <th>75%</th>\n",
       "      <td>72.25000</td>\n",
       "      <td>5146.000000</td>\n",
       "      <td>822.500000</td>\n",
       "      <td>30.000000</td>\n",
       "      <td>1286.500000</td>\n",
       "    </tr>\n",
       "    <tr>\n",
       "      <th>max</th>\n",
       "      <td>99.00000</td>\n",
       "      <td>6099.000000</td>\n",
       "      <td>963.000000</td>\n",
       "      <td>46.000000</td>\n",
       "      <td>1524.750000</td>\n",
       "    </tr>\n",
       "  </tbody>\n",
       "</table>\n",
       "</div>"
      ],
      "text/plain": [
       "       page_number  page_chat_count  page_word_count  page_sentence_count  \\\n",
       "count    108.00000       108.000000       108.000000           108.000000   \n",
       "mean      45.50000      3937.398148       657.546296            22.509259   \n",
       "std       31.32092      1431.126326       215.169283             9.540367   \n",
       "min       -8.00000         0.000000         1.000000             1.000000   \n",
       "25%       18.75000      3003.000000       530.250000            16.000000   \n",
       "50%       45.50000      3897.000000       694.000000            24.000000   \n",
       "75%       72.25000      5146.000000       822.500000            30.000000   \n",
       "max       99.00000      6099.000000       963.000000            46.000000   \n",
       "\n",
       "       page_token_count  \n",
       "count        108.000000  \n",
       "mean         984.349537  \n",
       "std          357.781581  \n",
       "min            0.000000  \n",
       "25%          750.750000  \n",
       "50%          974.250000  \n",
       "75%         1286.500000  \n",
       "max         1524.750000  "
      ]
     },
     "execution_count": 46,
     "metadata": {},
     "output_type": "execute_result"
    }
   ],
   "source": [
    "df.describe()"
   ]
  },
  {
   "cell_type": "code",
   "execution_count": 47,
   "metadata": {},
   "outputs": [],
   "source": [
    "### Mean Token count is 985 \n",
    "### Mean Word Count is 658 "
   ]
  },
  {
   "cell_type": "markdown",
   "metadata": {},
   "source": [
    "### Types of Techniques - Document Parsing \n",
    "* Max Token window with Overlap\n",
    "* Natural Whitespace Chunking with no overlap\n",
    "* Use Clustering to create semantic Docs\n",
    "* Entire Doc without Chunking"
   ]
  },
  {
   "cell_type": "markdown",
   "metadata": {},
   "source": [
    "## Format the Text of PDF to be fit for Embedding Model <a class=\"anchor\" id=\"#second-bullet\"></a>"
   ]
  },
  {
   "cell_type": "code",
   "execution_count": 51,
   "metadata": {},
   "outputs": [
    {
     "data": {
      "text/plain": [
       "[This is a sentence., This is second sentence., I love people]"
      ]
     },
     "execution_count": 51,
     "metadata": {},
     "output_type": "execute_result"
    }
   ],
   "source": [
    "from spacy.lang.en import English\n",
    "\n",
    "nlp = English()\n",
    "nlp.add_pipe(\"sentencizer\")\n",
    "\n",
    "doc = nlp(\"This is a sentence. This is second sentence. I love people\")\n",
    "assert len(list(doc.sents)) == 3\n",
    "\n",
    "list(doc.sents)"
   ]
  },
  {
   "cell_type": "code",
   "execution_count": 55,
   "metadata": {},
   "outputs": [
    {
     "data": {
      "text/plain": [
       "{'page_number': -7,\n",
       " 'page_chat_count': 1,\n",
       " 'page_word_count': 1,\n",
       " 'page_sentence_count': 1,\n",
       " 'page_token_count': 0.25,\n",
       " 'text': '1'}"
      ]
     },
     "execution_count": 55,
     "metadata": {},
     "output_type": "execute_result"
    }
   ],
   "source": [
    "page_texts[1]"
   ]
  },
  {
   "cell_type": "code",
   "execution_count": 56,
   "metadata": {},
   "outputs": [
    {
     "data": {
      "application/vnd.jupyter.widget-view+json": {
       "model_id": "826932e7c0b541578a750efe08e75097",
       "version_major": 2,
       "version_minor": 0
      },
      "text/plain": [
       "  0%|          | 0/108 [00:00<?, ?it/s]"
      ]
     },
     "metadata": {},
     "output_type": "display_data"
    }
   ],
   "source": [
    "for item in tqdm(page_texts):\n",
    "    item[\"sentences\"] = list(nlp(item[\"text\"]).sents)\n",
    "\n",
    "    item[\"sentences\"] = [str(sentence) for sentence in item[\"sentences\"]]\n",
    "    item[\"page_sentence_count_spacy\"] = len(item[\"sentences\"])\n",
    "    "
   ]
  },
  {
   "cell_type": "code",
   "execution_count": 57,
   "metadata": {},
   "outputs": [
    {
     "data": {
      "text/plain": [
       "[{'page_number': 96,\n",
       "  'page_chat_count': 1706,\n",
       "  'page_word_count': 378,\n",
       "  'page_sentence_count': 19,\n",
       "  'page_token_count': 426.5,\n",
       "  'text': '111 F i s c a l  Ye a r 2 0 2 4 A nnual Rep ort SIGNATURES Pursuant to the requirements of Section 13 or 15(d) of the Securities Exchange Act of 1934, the registrant has duly caused  this report to be signed on its behalf by the undersigned, thereunto duly authorized. Date: June 18, 2024                                The J. M. Smucker Company /s/ Tucker H. Marshall By: Tucker H. Marshall Chief Financial Officer Pursuant to the requirements of the Securities Exchange Act of 1934, this report has been signed below by the  following persons on behalf of the registrant and in the capacities and on the dates indicated. * Mark T. Smucker Chair of the Board, President, and Chief Executive Officer (Principal Executive Officer) June 18, 2024 * Tucker H. Marshall Chief Financial Officer (Principal Financial Officer and Principal  Accounting Officer) June 18, 2024 * Mercedes Abramo Director June 18, 2024 * Tarang P. Amin Director June 18, 2024 * Susan E. Chapman-Hughes Director June 18, 2024 * Jay L. Henderson Director June 18, 2024 * Jonathan E. Johnson III Director June 18, 2024 * Kirk L. Perry Director June 18, 2024 * Alex Shumate Director June 18, 2024 * Jodi L. Taylor Director June 18, 2024 * Dawn C. Willoughby Director June 18, 2024 * The undersigned, by signing her name hereto, does sign and execute this report pursuant to the powers of attorney  executed by the above-named officers and directors of the registrant, which are being filed herewith with the Securities  and Exchange Commission on behalf of such officers and directors. Date: June 18, 2024 /s/ Jeannette L. Knudsen By: Jeannette L. Knudsen                                                                Attorney-in-Fact 96',\n",
       "  'sentences': ['111 F i s c a l  Ye a r 2 0 2 4 A nnual Rep ort SIGNATURES Pursuant to the requirements of Section 13 or 15(d) of the Securities Exchange Act of 1934, the registrant has duly caused  this report to be signed on its behalf by the undersigned, thereunto duly authorized.',\n",
       "   'Date: June 18, 2024                                The J. M. Smucker Company /s/ Tucker H. Marshall By: Tucker H. Marshall Chief Financial Officer Pursuant to the requirements of the Securities Exchange Act of 1934, this report has been signed below by the  following persons on behalf of the registrant and in the capacities and on the dates indicated. *',\n",
       "   'Mark T. Smucker Chair of the Board, President, and Chief Executive Officer (Principal Executive Officer) June 18, 2024 * Tucker H. Marshall Chief Financial Officer (Principal Financial Officer and Principal  Accounting Officer) June 18, 2024 * Mercedes Abramo Director June 18, 2024 * Tarang P. Amin Director June 18, 2024 * Susan E. Chapman-Hughes Director June 18, 2024 * Jay L. Henderson Director June 18, 2024 * Jonathan E. Johnson III Director June 18, 2024 * Kirk L. Perry Director June 18, 2024 * Alex Shumate Director June 18, 2024 * Jodi L. Taylor Director June 18, 2024 * Dawn C. Willoughby Director June 18, 2024 * The undersigned, by signing her name hereto, does sign and execute this report pursuant to the powers of attorney  executed by the above-named officers and directors of the registrant, which are being filed herewith with the Securities  and Exchange Commission on behalf of such officers and directors.',\n",
       "   'Date: June 18, 2024 /s/ Jeannette L. Knudsen By: Jeannette L. Knudsen                                                                Attorney-in-Fact 96'],\n",
       "  'page_sentence_count_spacy': 4}]"
      ]
     },
     "execution_count": 57,
     "metadata": {},
     "output_type": "execute_result"
    }
   ],
   "source": [
    "random.sample(page_texts, k=1)"
   ]
  },
  {
   "cell_type": "code",
   "execution_count": 58,
   "metadata": {},
   "outputs": [
    {
     "data": {
      "text/html": [
       "<div>\n",
       "<style scoped>\n",
       "    .dataframe tbody tr th:only-of-type {\n",
       "        vertical-align: middle;\n",
       "    }\n",
       "\n",
       "    .dataframe tbody tr th {\n",
       "        vertical-align: top;\n",
       "    }\n",
       "\n",
       "    .dataframe thead th {\n",
       "        text-align: right;\n",
       "    }\n",
       "</style>\n",
       "<table border=\"1\" class=\"dataframe\">\n",
       "  <thead>\n",
       "    <tr style=\"text-align: right;\">\n",
       "      <th></th>\n",
       "      <th>page_number</th>\n",
       "      <th>page_chat_count</th>\n",
       "      <th>page_word_count</th>\n",
       "      <th>page_sentence_count</th>\n",
       "      <th>page_token_count</th>\n",
       "      <th>page_sentence_count_spacy</th>\n",
       "    </tr>\n",
       "  </thead>\n",
       "  <tbody>\n",
       "    <tr>\n",
       "      <th>count</th>\n",
       "      <td>108.00</td>\n",
       "      <td>108.00</td>\n",
       "      <td>108.00</td>\n",
       "      <td>108.00</td>\n",
       "      <td>108.00</td>\n",
       "      <td>108.00</td>\n",
       "    </tr>\n",
       "    <tr>\n",
       "      <th>mean</th>\n",
       "      <td>45.50</td>\n",
       "      <td>3937.40</td>\n",
       "      <td>657.55</td>\n",
       "      <td>22.51</td>\n",
       "      <td>984.35</td>\n",
       "      <td>18.70</td>\n",
       "    </tr>\n",
       "    <tr>\n",
       "      <th>std</th>\n",
       "      <td>31.32</td>\n",
       "      <td>1431.13</td>\n",
       "      <td>215.17</td>\n",
       "      <td>9.54</td>\n",
       "      <td>357.78</td>\n",
       "      <td>9.36</td>\n",
       "    </tr>\n",
       "    <tr>\n",
       "      <th>min</th>\n",
       "      <td>-8.00</td>\n",
       "      <td>0.00</td>\n",
       "      <td>1.00</td>\n",
       "      <td>1.00</td>\n",
       "      <td>0.00</td>\n",
       "      <td>0.00</td>\n",
       "    </tr>\n",
       "    <tr>\n",
       "      <th>25%</th>\n",
       "      <td>18.75</td>\n",
       "      <td>3003.00</td>\n",
       "      <td>530.25</td>\n",
       "      <td>16.00</td>\n",
       "      <td>750.75</td>\n",
       "      <td>11.00</td>\n",
       "    </tr>\n",
       "    <tr>\n",
       "      <th>50%</th>\n",
       "      <td>45.50</td>\n",
       "      <td>3897.00</td>\n",
       "      <td>694.00</td>\n",
       "      <td>24.00</td>\n",
       "      <td>974.25</td>\n",
       "      <td>19.00</td>\n",
       "    </tr>\n",
       "    <tr>\n",
       "      <th>75%</th>\n",
       "      <td>72.25</td>\n",
       "      <td>5146.00</td>\n",
       "      <td>822.50</td>\n",
       "      <td>30.00</td>\n",
       "      <td>1286.50</td>\n",
       "      <td>27.00</td>\n",
       "    </tr>\n",
       "    <tr>\n",
       "      <th>max</th>\n",
       "      <td>99.00</td>\n",
       "      <td>6099.00</td>\n",
       "      <td>963.00</td>\n",
       "      <td>46.00</td>\n",
       "      <td>1524.75</td>\n",
       "      <td>34.00</td>\n",
       "    </tr>\n",
       "  </tbody>\n",
       "</table>\n",
       "</div>"
      ],
      "text/plain": [
       "       page_number  page_chat_count  page_word_count  page_sentence_count  \\\n",
       "count       108.00           108.00           108.00               108.00   \n",
       "mean         45.50          3937.40           657.55                22.51   \n",
       "std          31.32          1431.13           215.17                 9.54   \n",
       "min          -8.00             0.00             1.00                 1.00   \n",
       "25%          18.75          3003.00           530.25                16.00   \n",
       "50%          45.50          3897.00           694.00                24.00   \n",
       "75%          72.25          5146.00           822.50                30.00   \n",
       "max          99.00          6099.00           963.00                46.00   \n",
       "\n",
       "       page_token_count  page_sentence_count_spacy  \n",
       "count            108.00                     108.00  \n",
       "mean             984.35                      18.70  \n",
       "std              357.78                       9.36  \n",
       "min                0.00                       0.00  \n",
       "25%              750.75                      11.00  \n",
       "50%              974.25                      19.00  \n",
       "75%             1286.50                      27.00  \n",
       "max             1524.75                      34.00  "
      ]
     },
     "execution_count": 58,
     "metadata": {},
     "output_type": "execute_result"
    }
   ],
   "source": [
    "df = pd.DataFrame(page_texts)\n",
    "df.describe().round(2)"
   ]
  },
  {
   "cell_type": "code",
   "execution_count": 63,
   "metadata": {},
   "outputs": [],
   "source": [
    "### Define split size to turn groups of sentences into chunks\n",
    "num_sentence_chunk_size = 10\n",
    "\n",
    "## Create a fn to split list of texts recursiverly into chunk size \n",
    "#### Eg. [25] -> [10],[10],[5]\n",
    "def split_list(input_list: list[str], slice_size: int=num_sentence_chunk_size) -> list[list[str]]:\n",
    "    return [input_list[i:i+slice_size] for i in range (0, len(input_list), slice_size)] \n",
    "\n",
    "# test_list = list(range(25))\n",
    "# split_list(test_list)"
   ]
  },
  {
   "cell_type": "code",
   "execution_count": 64,
   "metadata": {},
   "outputs": [
    {
     "data": {
      "application/vnd.jupyter.widget-view+json": {
       "model_id": "87a5b8adeb574589b95c6f9cf8e4c60f",
       "version_major": 2,
       "version_minor": 0
      },
      "text/plain": [
       "  0%|          | 0/108 [00:00<?, ?it/s]"
      ]
     },
     "metadata": {},
     "output_type": "display_data"
    }
   ],
   "source": [
    "## Loop through pages and texts and split sentences into chunks\n",
    "for item in tqdm(page_texts):\n",
    "    item['sentence_chunks'] = split_list(input_list = item['sentences'], \n",
    "                                         slice_size = num_sentence_chunk_size)\n",
    "    item['num_chunks'] = len(item['sentence_chunks'])"
   ]
  },
  {
   "cell_type": "code",
   "execution_count": 89,
   "metadata": {},
   "outputs": [],
   "source": [
    "#random.sample(page_texts, k=1)"
   ]
  },
  {
   "cell_type": "code",
   "execution_count": 66,
   "metadata": {},
   "outputs": [
    {
     "data": {
      "text/html": [
       "<div>\n",
       "<style scoped>\n",
       "    .dataframe tbody tr th:only-of-type {\n",
       "        vertical-align: middle;\n",
       "    }\n",
       "\n",
       "    .dataframe tbody tr th {\n",
       "        vertical-align: top;\n",
       "    }\n",
       "\n",
       "    .dataframe thead th {\n",
       "        text-align: right;\n",
       "    }\n",
       "</style>\n",
       "<table border=\"1\" class=\"dataframe\">\n",
       "  <thead>\n",
       "    <tr style=\"text-align: right;\">\n",
       "      <th></th>\n",
       "      <th>page_number</th>\n",
       "      <th>page_chat_count</th>\n",
       "      <th>page_word_count</th>\n",
       "      <th>page_sentence_count</th>\n",
       "      <th>page_token_count</th>\n",
       "      <th>page_sentence_count_spacy</th>\n",
       "      <th>num_chunks</th>\n",
       "    </tr>\n",
       "  </thead>\n",
       "  <tbody>\n",
       "    <tr>\n",
       "      <th>count</th>\n",
       "      <td>108.00</td>\n",
       "      <td>108.00</td>\n",
       "      <td>108.00</td>\n",
       "      <td>108.00</td>\n",
       "      <td>108.00</td>\n",
       "      <td>108.00</td>\n",
       "      <td>108.00</td>\n",
       "    </tr>\n",
       "    <tr>\n",
       "      <th>mean</th>\n",
       "      <td>45.50</td>\n",
       "      <td>3937.40</td>\n",
       "      <td>657.55</td>\n",
       "      <td>22.51</td>\n",
       "      <td>984.35</td>\n",
       "      <td>18.70</td>\n",
       "      <td>2.33</td>\n",
       "    </tr>\n",
       "    <tr>\n",
       "      <th>std</th>\n",
       "      <td>31.32</td>\n",
       "      <td>1431.13</td>\n",
       "      <td>215.17</td>\n",
       "      <td>9.54</td>\n",
       "      <td>357.78</td>\n",
       "      <td>9.36</td>\n",
       "      <td>0.91</td>\n",
       "    </tr>\n",
       "    <tr>\n",
       "      <th>min</th>\n",
       "      <td>-8.00</td>\n",
       "      <td>0.00</td>\n",
       "      <td>1.00</td>\n",
       "      <td>1.00</td>\n",
       "      <td>0.00</td>\n",
       "      <td>0.00</td>\n",
       "      <td>0.00</td>\n",
       "    </tr>\n",
       "    <tr>\n",
       "      <th>25%</th>\n",
       "      <td>18.75</td>\n",
       "      <td>3003.00</td>\n",
       "      <td>530.25</td>\n",
       "      <td>16.00</td>\n",
       "      <td>750.75</td>\n",
       "      <td>11.00</td>\n",
       "      <td>2.00</td>\n",
       "    </tr>\n",
       "    <tr>\n",
       "      <th>50%</th>\n",
       "      <td>45.50</td>\n",
       "      <td>3897.00</td>\n",
       "      <td>694.00</td>\n",
       "      <td>24.00</td>\n",
       "      <td>974.25</td>\n",
       "      <td>19.00</td>\n",
       "      <td>2.00</td>\n",
       "    </tr>\n",
       "    <tr>\n",
       "      <th>75%</th>\n",
       "      <td>72.25</td>\n",
       "      <td>5146.00</td>\n",
       "      <td>822.50</td>\n",
       "      <td>30.00</td>\n",
       "      <td>1286.50</td>\n",
       "      <td>27.00</td>\n",
       "      <td>3.00</td>\n",
       "    </tr>\n",
       "    <tr>\n",
       "      <th>max</th>\n",
       "      <td>99.00</td>\n",
       "      <td>6099.00</td>\n",
       "      <td>963.00</td>\n",
       "      <td>46.00</td>\n",
       "      <td>1524.75</td>\n",
       "      <td>34.00</td>\n",
       "      <td>4.00</td>\n",
       "    </tr>\n",
       "  </tbody>\n",
       "</table>\n",
       "</div>"
      ],
      "text/plain": [
       "       page_number  page_chat_count  page_word_count  page_sentence_count  \\\n",
       "count       108.00           108.00           108.00               108.00   \n",
       "mean         45.50          3937.40           657.55                22.51   \n",
       "std          31.32          1431.13           215.17                 9.54   \n",
       "min          -8.00             0.00             1.00                 1.00   \n",
       "25%          18.75          3003.00           530.25                16.00   \n",
       "50%          45.50          3897.00           694.00                24.00   \n",
       "75%          72.25          5146.00           822.50                30.00   \n",
       "max          99.00          6099.00           963.00                46.00   \n",
       "\n",
       "       page_token_count  page_sentence_count_spacy  num_chunks  \n",
       "count            108.00                     108.00      108.00  \n",
       "mean             984.35                      18.70        2.33  \n",
       "std              357.78                       9.36        0.91  \n",
       "min                0.00                       0.00        0.00  \n",
       "25%              750.75                      11.00        2.00  \n",
       "50%              974.25                      19.00        2.00  \n",
       "75%             1286.50                      27.00        3.00  \n",
       "max             1524.75                      34.00        4.00  "
      ]
     },
     "execution_count": 66,
     "metadata": {},
     "output_type": "execute_result"
    }
   ],
   "source": [
    "df = pd.DataFrame(page_texts)\n",
    "df.describe().round(2)"
   ]
  },
  {
   "cell_type": "code",
   "execution_count": 73,
   "metadata": {},
   "outputs": [
    {
     "data": {
      "application/vnd.jupyter.widget-view+json": {
       "model_id": "765100a2068f42b59eacf2822a1b99c9",
       "version_major": 2,
       "version_minor": 0
      },
      "text/plain": [
       "  0%|          | 0/108 [00:00<?, ?it/s]"
      ]
     },
     "metadata": {},
     "output_type": "display_data"
    },
    {
     "data": {
      "text/plain": [
       "252"
      ]
     },
     "execution_count": 73,
     "metadata": {},
     "output_type": "execute_result"
    }
   ],
   "source": [
    "#### Splitting Each Chunk into its own item - 3 Chunks\n",
    "import re \n",
    "page_and_chunks = []\n",
    "for item in tqdm(page_texts):\n",
    "    for sentence_chunk in item['sentence_chunks']:\n",
    "        chunk_dict = {}\n",
    "        chunk_dict['page_number'] = item['page_number'] \n",
    "        \n",
    "        ## Join sentence together into a paragraphy like structure \n",
    "        joined_sentence_chunk = \"\".join(sentence_chunk).replace(\"  \", \" \").strip()\n",
    "        joined_sentence_chunk = re.sub(r'\\.([A-Z])',r'. \\1', joined_sentence_chunk)\n",
    "\n",
    "        chunk_dict['sentence_chunk'] = joined_sentence_chunk\n",
    "        chunk_dict['chunk_char_count'] = len(joined_sentence_chunk)\n",
    "        chunk_dict['chunk_word_count'] = len([word for word in joined_sentence_chunk.split(\" \")])\n",
    "        chunk_dict[\"chunk_token_count\"] = len(joined_sentence_chunk) / 4\n",
    "        page_and_chunks.append(chunk_dict)\n",
    "\n",
    "len(page_and_chunks)\n",
    "        "
   ]
  },
  {
   "cell_type": "code",
   "execution_count": 74,
   "metadata": {},
   "outputs": [
    {
     "data": {
      "text/plain": [
       "[{'page_number': 59,\n",
       "  'sentence_chunk': 'For information on our defined benefit plans, see Note 9: Pensions and Other Postretirement Benefits. Income Taxes: We account for income taxes using the liability method. Accordingly, deferred tax assets and liabilities are recognized for the future tax consequences attributable to differences between financial statement carrying amounts of existing assets and liabilities and their respective tax bases. Deferred tax assets and liabilities are measured using enacted income tax rates expected to apply to taxable income in the years in which those temporary differences are expected to be recovered or settled. The effect on deferred tax assets and liabilities of a change in the applicable tax rate is recognized in income or expense in the period that the change is enacted. A tax benefit is recognized when it is more likely than not to be sustained. A valuation allowance is established when it is more likely than not that all or a portion of a deferred tax asset will not be realized. We account for the financial statement recognition and measurement criteria of a tax position taken or expected to be taken in a tax return under FASB ASC 740, Income Taxes. ASC 740 also provides guidance on derecognition, classification, interest and penalties, accounting in interim periods, and disclosure. In accordance with the requirements of ASC 740, uncertain tax positions have been classified in the Consolidated Balance Sheets as noncurrent, except to the extent payment is expected 59',\n",
       "  'chunk_char_count': 1491,\n",
       "  'chunk_word_count': 237,\n",
       "  'chunk_token_count': 372.75}]"
      ]
     },
     "execution_count": 74,
     "metadata": {},
     "output_type": "execute_result"
    }
   ],
   "source": [
    "random.sample(page_and_chunks, k=1)"
   ]
  },
  {
   "cell_type": "code",
   "execution_count": 76,
   "metadata": {},
   "outputs": [
    {
     "data": {
      "text/html": [
       "<div>\n",
       "<style scoped>\n",
       "    .dataframe tbody tr th:only-of-type {\n",
       "        vertical-align: middle;\n",
       "    }\n",
       "\n",
       "    .dataframe tbody tr th {\n",
       "        vertical-align: top;\n",
       "    }\n",
       "\n",
       "    .dataframe thead th {\n",
       "        text-align: right;\n",
       "    }\n",
       "</style>\n",
       "<table border=\"1\" class=\"dataframe\">\n",
       "  <thead>\n",
       "    <tr style=\"text-align: right;\">\n",
       "      <th></th>\n",
       "      <th>page_number</th>\n",
       "      <th>chunk_char_count</th>\n",
       "      <th>chunk_word_count</th>\n",
       "      <th>chunk_token_count</th>\n",
       "    </tr>\n",
       "  </thead>\n",
       "  <tbody>\n",
       "    <tr>\n",
       "      <th>count</th>\n",
       "      <td>252.00</td>\n",
       "      <td>252.00</td>\n",
       "      <td>252.00</td>\n",
       "      <td>252.00</td>\n",
       "    </tr>\n",
       "    <tr>\n",
       "      <th>mean</th>\n",
       "      <td>43.52</td>\n",
       "      <td>1663.84</td>\n",
       "      <td>258.76</td>\n",
       "      <td>415.96</td>\n",
       "    </tr>\n",
       "    <tr>\n",
       "      <th>std</th>\n",
       "      <td>29.77</td>\n",
       "      <td>780.36</td>\n",
       "      <td>127.22</td>\n",
       "      <td>195.09</td>\n",
       "    </tr>\n",
       "    <tr>\n",
       "      <th>min</th>\n",
       "      <td>-7.00</td>\n",
       "      <td>1.00</td>\n",
       "      <td>1.00</td>\n",
       "      <td>0.25</td>\n",
       "    </tr>\n",
       "    <tr>\n",
       "      <th>25%</th>\n",
       "      <td>17.75</td>\n",
       "      <td>1217.75</td>\n",
       "      <td>184.75</td>\n",
       "      <td>304.44</td>\n",
       "    </tr>\n",
       "    <tr>\n",
       "      <th>50%</th>\n",
       "      <td>40.50</td>\n",
       "      <td>1729.00</td>\n",
       "      <td>270.50</td>\n",
       "      <td>432.25</td>\n",
       "    </tr>\n",
       "    <tr>\n",
       "      <th>75%</th>\n",
       "      <td>68.00</td>\n",
       "      <td>2129.00</td>\n",
       "      <td>336.50</td>\n",
       "      <td>532.25</td>\n",
       "    </tr>\n",
       "    <tr>\n",
       "      <th>max</th>\n",
       "      <td>99.00</td>\n",
       "      <td>3805.00</td>\n",
       "      <td>709.00</td>\n",
       "      <td>951.25</td>\n",
       "    </tr>\n",
       "  </tbody>\n",
       "</table>\n",
       "</div>"
      ],
      "text/plain": [
       "       page_number  chunk_char_count  chunk_word_count  chunk_token_count\n",
       "count       252.00            252.00            252.00             252.00\n",
       "mean         43.52           1663.84            258.76             415.96\n",
       "std          29.77            780.36            127.22             195.09\n",
       "min          -7.00              1.00              1.00               0.25\n",
       "25%          17.75           1217.75            184.75             304.44\n",
       "50%          40.50           1729.00            270.50             432.25\n",
       "75%          68.00           2129.00            336.50             532.25\n",
       "max          99.00           3805.00            709.00             951.25"
      ]
     },
     "execution_count": 76,
     "metadata": {},
     "output_type": "execute_result"
    }
   ],
   "source": [
    "df2 = pd.DataFrame(page_and_chunks)\n",
    "df2.describe().round(2)"
   ]
  },
  {
   "cell_type": "code",
   "execution_count": 84,
   "metadata": {},
   "outputs": [
    {
     "name": "stdout",
     "output_type": "stream",
     "text": [
      "Chunk token count: 0.5 | Text: 70\n",
      "Chunk token count: 0.5 | Text: 26\n",
      "Chunk token count: 0.5 | Text: 67\n",
      "Chunk token count: 24.75 | Text: At April 30, 2024, there were 3,740,981 shares available for future issuance under the 2020 Plan.85\n",
      "Chunk token count: 0.5 | Text: 41\n"
     ]
    }
   ],
   "source": [
    "### Show random chunks under 30 token in length - these shotter chunks maynot contain useful information\n",
    "min_token_len = 30 \n",
    "for row in df2[df2['chunk_word_count'] <= min_token_len].sample(5).iterrows():\n",
    "    #print(f'Chunk Token Count: {row[1]['chunk_token_count']} | Text: {row[1]['sentence_chunk']}')\n",
    "    print(f'Chunk token count: {row[1][\"chunk_token_count\"]} | Text: {row[1][\"sentence_chunk\"]}')\n"
   ]
  },
  {
   "cell_type": "code",
   "execution_count": 85,
   "metadata": {},
   "outputs": [
    {
     "data": {
      "text/plain": [
       "[{'page_number': -6,\n",
       "  'sentence_chunk': '3 F i s c a l Ye a r 2 0 2 4 A nnual Rep ort With a focus on establishing leading positions in attractive categories, we have cultivated a strong portfolio of brands across our strategic business areas of coffee, frozen handheld and spreads, pet, and sweet baked snacks. In fiscal year 2024, these businesses achieved success and paved the way for continued growth. Frozen Handheld and Spreads ________________ We continue to invest in the growth of our frozen handheld business with Uncrustables® and our leading positions in peanut butter, with Jif ®, and fruit spreads, with our namesake Smucker’s® brand. Uncrustables® delivered approximately $800 million in net sales, buoyed by expanded distribution and the launch of dedicated marketing for the brand, and is well on pace to achieve our goal of $1 billion in annual net sales by the end of our fiscal year 2026. Jif ® leads all competitors in household penetration and volume velocity. And, our teams continue to focus on keeping the brand immersed in culture, including the launch of the “Save the Celery” campaign, which playfully extolled the virtue of peanut butter beyond the traditional peanut butter and jelly sandwich. Smucker’s® maintained its leadership in fruit spreads through a focused portfolio of  in-demand jam, jelly, and preserve products. Pet _________________________________________ The optimization of our pet portfolio and focus on the areas of the business with the greatest growth potential, dog snacks and cat food, has allowed us to extend our leadership in both segments, led by our Milk-Bone ® and Meow Mix ® brands, respectively. Milk-Bone ® continued to outpace the category in growing dollar share through the success of its balanced offering across the value spectrum to meet consumer needs, from its base biscuit business to premium innovation and seasonal selections. Meow Mix ® continued to gain dollar share in dry cat food following diligent work to overcome capacity constraints and deliver on demand.',\n",
       "  'chunk_char_count': 1997,\n",
       "  'chunk_word_count': 324,\n",
       "  'chunk_token_count': 499.25},\n",
       " {'page_number': -6,\n",
       "  'sentence_chunk': 'Sweet Baked Snacks ________________________ Snacking remains one of the fastest-growing center-of-store categories, with indulgent snacking growing even faster than alternatives. We are excited for the opportunities to expand on our leadership in the sweet baked goods category through investment in our Hostess ® and Voortman ® brands, including continued focus on leading in innovation and expanding marketing. Hostess® continued its innovation leadership with successful introductions including Hostess® Kazbars™, the HoneyBun Flavored Donettes® mashup, and the launch of Hostess® Meltamors™. Voortman ® maintained its leading position in the zero-sugar cookie category while expanding its ability to deliver on the needs of consumers with the launch of Voortman ® Perfectly Sweet™, a reduced-sugar cookie offering that has 25 percent less sugar than the leading cookie without compromising taste or flavor. Coffee __________________________________ We are a leader in the at-home coffee category, one that remains strong with  70 percent of cups consumed at home. Our portfolio includes three of the  top seven brands with Folgers ®, Dunkin’ ®, and Café Bustelo ®. Folgers® maintained volume leadership and remains the #1 brand in the  category, recently celebrating consumer preference for the taste of its  Folgers® Black Silk offering compared to the leading competitor. Café Bustelo® remains one of the fastest-growing brands in the category and has delivered double-digit net sales growth in 10 of the last 11  quarters, with further innovation and marketing planned to spur  continued growth. Dunkin’ ® has taken the #2 position in the shelf stable liquid  coffee concentrate category following the launch of Dunkin’ ®  liquid concentrates, and we continue to invest in the brand  to build on its strong position in this important segment.',\n",
       "  'chunk_char_count': 1849,\n",
       "  'chunk_word_count': 284,\n",
       "  'chunk_token_count': 462.25}]"
      ]
     },
     "execution_count": 85,
     "metadata": {},
     "output_type": "execute_result"
    }
   ],
   "source": [
    "### Can eleminate the unncecessary data \n",
    "page_and_chunks_over_min_token_len = df2[df2[\"chunk_token_count\"] > min_token_len].to_dict(orient= \"records\")\n",
    "page_and_chunks_over_min_token_len[:2]"
   ]
  },
  {
   "cell_type": "code",
   "execution_count": 88,
   "metadata": {},
   "outputs": [
    {
     "data": {
      "text/plain": [
       "[{'page_number': -3,\n",
       "  'sentence_chunk': 'Our Transformation and Growth Vision  In fiscal year 2024, I assumed oversight of  our new integrated portfolio management organization, which will support the execution of our transformation initiatives. When we think about transformation at Smucker, we think about ways of working and how we can continue to promote a spirit of continuous improvement. This new organization will create seamless collaboration across the business  and as we review planning against margin management objectives. It is important to reflect on the fact that this work  is in service of our broader growth aspirations. We are committed to identifying opportunities  for cost savings that will allow us to reinvest  in the business and deliver shareholder value in the long term. This strategy has supported the expansion of our current portfolio and the establishment of our leading positions across coffee, frozen handheld and spreads, pet, and sweet baked snacks. Our continued execution and enhanced collaboration will create even greater synergy and expansion opportunities. Our fiscal year 2024 performance reflects the strong foundation we have established, the continued momentum of our business and portfolio, and the consistent progress we have made in delivering long-term shareholder value. I am pleased with our fiscal year results and the important steps we have taken to support our long-term growth, including the acquisition of Hostess Brands. Our sweet baked snacks business will contribute approximately $1.4 billion in annual net sales, bringing  our pro forma total Company net sales to approximately  $9 billion.',\n",
       "  'chunk_char_count': 1614,\n",
       "  'chunk_word_count': 251,\n",
       "  'chunk_token_count': 403.5}]"
      ]
     },
     "execution_count": 88,
     "metadata": {},
     "output_type": "execute_result"
    }
   ],
   "source": [
    "random.sample(page_and_chunks_over_min_token_len, k=1)"
   ]
  },
  {
   "cell_type": "markdown",
   "metadata": {},
   "source": [
    "## Embed all chunks of the text and turn them into numerical representation <a class=\"anchor\" id=\"#third-bullet\"></a>"
   ]
  },
  {
   "cell_type": "markdown",
   "metadata": {},
   "source": [
    "##### -- Numerical Representation : Embeddings itself can be called `Learned` representation\n",
    "##### *Link: https://vickiboykis.com/what_are_embeddings/index.html*"
   ]
  },
  {
   "cell_type": "code",
   "execution_count": 91,
   "metadata": {},
   "outputs": [],
   "source": [
    "### https://sbert.net/docs/sentence_transformer/pretrained_models.html"
   ]
  },
  {
   "cell_type": "code",
   "execution_count": 93,
   "metadata": {},
   "outputs": [],
   "source": [
    "from sentence_transformers import SentenceTransformer\n",
    "embedding_model = SentenceTransformer(model_name_or_path = \"all-mpnet-base-v2\",\n",
    "                                     device = \"cuda\")"
   ]
  },
  {
   "cell_type": "code",
   "execution_count": 94,
   "metadata": {},
   "outputs": [],
   "source": [
    "ex_sentences = [\n",
    "    \"The Sentences Transformers library provides an easy and open-source way to create embeddings.\",\n",
    "    \"Sentences can be embedded one by one or as a list of strings.\",\n",
    "    \"Embeddings are one of the most powerful concepts in machine learning!\",\n",
    "    \"Learn to use embeddings well and you'll be well on your way to being an AI engineer.\"\n",
    "]"
   ]
  },
  {
   "cell_type": "code",
   "execution_count": 97,
   "metadata": {},
   "outputs": [],
   "source": [
    "# embeddings = embedding_model.encode(ex_sentences)\n",
    "# embedding_dict = dict(zip(ex_sentences, embeddings))\n",
    "\n",
    "# for ex_sentence, embedding in embedding_dict.items():\n",
    "#     print(f\"Sentence:{ex_sentence}\")\n",
    "#     print(f\"Embedding:{embedding}\")\n",
    "#     print(\" \")"
   ]
  },
  {
   "cell_type": "code",
   "execution_count": 99,
   "metadata": {},
   "outputs": [
    {
     "data": {
      "application/vnd.jupyter.widget-view+json": {
       "model_id": "15d4a48b656a47bba5c320cc11548d5a",
       "version_major": 2,
       "version_minor": 0
      },
      "text/plain": [
       "  0%|          | 0/239 [00:00<?, ?it/s]"
      ]
     },
     "metadata": {},
     "output_type": "display_data"
    },
    {
     "name": "stdout",
     "output_type": "stream",
     "text": [
      "CPU times: total: 17.3 s\n",
      "Wall time: 6.31 s\n"
     ]
    }
   ],
   "source": [
    "%%time\n",
    "embedding_model.to(\"cuda\")\n",
    "\n",
    "for item in tqdm(page_and_chunks_over_min_token_len):\n",
    "    item['embedding'] = embedding_model.encode(item['sentence_chunk'])"
   ]
  },
  {
   "cell_type": "code",
   "execution_count": 100,
   "metadata": {},
   "outputs": [],
   "source": [
    "# Turn text chunks into a single list\n",
    "text_chunks = [item[\"sentence_chunk\"] for item in page_and_chunks_over_min_token_len]"
   ]
  },
  {
   "cell_type": "code",
   "execution_count": 101,
   "metadata": {},
   "outputs": [
    {
     "name": "stdout",
     "output_type": "stream",
     "text": [
      "CPU times: total: 5.31 s\n",
      "Wall time: 3.22 s\n"
     ]
    },
    {
     "data": {
      "text/plain": [
       "tensor([[ 0.0679,  0.0821, -0.0079,  ...,  0.0147, -0.0226, -0.0186],\n",
       "        [ 0.0292, -0.0011, -0.0425,  ...,  0.0050, -0.0100,  0.0088],\n",
       "        [ 0.0331,  0.0991, -0.0254,  ...,  0.0194, -0.0384, -0.0210],\n",
       "        ...,\n",
       "        [ 0.0673,  0.0751, -0.0098,  ..., -0.0098, -0.0935, -0.0235],\n",
       "        [ 0.0320,  0.0244,  0.0168,  ...,  0.0013, -0.0532, -0.0585],\n",
       "        [ 0.0530,  0.0311, -0.0169,  ..., -0.0043, -0.0605, -0.0276]],\n",
       "       device='cuda:0')"
      ]
     },
     "execution_count": 101,
     "metadata": {},
     "output_type": "execute_result"
    }
   ],
   "source": [
    "%%time\n",
    "\n",
    "# Embed all texts in batches\n",
    "text_chunk_embeddings = embedding_model.encode(text_chunks,\n",
    "                                               batch_size=32, # you can use different batch sizes here for speed/performance, I found 32 works well for this use case\n",
    "                                               convert_to_tensor=True) # optional to return embeddings as tensor instead of array\n",
    "\n",
    "text_chunk_embeddings"
   ]
  },
  {
   "cell_type": "markdown",
   "metadata": {},
   "source": [
    "#### We can perform batched operations by turning our target text samples into a single list and then passing that list to our embedding model.\n",
    "##### `CPU to GPU > GPU to Batched Operations` "
   ]
  },
  {
   "cell_type": "markdown",
   "metadata": {},
   "source": [
    "### Save Embeddings to File"
   ]
  },
  {
   "cell_type": "code",
   "execution_count": 105,
   "metadata": {},
   "outputs": [],
   "source": [
    "text_chunks_and_embeddings_df = pd.DataFrame(page_and_chunks_over_min_token_len)\n",
    "embeddings_df_save_path = 'text_chunks_and_embeddings_df.csv'\n",
    "text_chunks_and_embeddings_df.to_csv(embeddings_df_save_path, index= False)"
   ]
  },
  {
   "cell_type": "code",
   "execution_count": null,
   "metadata": {},
   "outputs": [],
   "source": [
    "## Importing save file and view"
   ]
  },
  {
   "cell_type": "code",
   "execution_count": 160,
   "metadata": {},
   "outputs": [
    {
     "data": {
      "text/html": [
       "<div>\n",
       "<style scoped>\n",
       "    .dataframe tbody tr th:only-of-type {\n",
       "        vertical-align: middle;\n",
       "    }\n",
       "\n",
       "    .dataframe tbody tr th {\n",
       "        vertical-align: top;\n",
       "    }\n",
       "\n",
       "    .dataframe thead th {\n",
       "        text-align: right;\n",
       "    }\n",
       "</style>\n",
       "<table border=\"1\" class=\"dataframe\">\n",
       "  <thead>\n",
       "    <tr style=\"text-align: right;\">\n",
       "      <th></th>\n",
       "      <th>page_number</th>\n",
       "      <th>sentence_chunk</th>\n",
       "      <th>chunk_char_count</th>\n",
       "      <th>chunk_word_count</th>\n",
       "      <th>chunk_token_count</th>\n",
       "      <th>embedding</th>\n",
       "    </tr>\n",
       "  </thead>\n",
       "  <tbody>\n",
       "    <tr>\n",
       "      <th>0</th>\n",
       "      <td>-6</td>\n",
       "      <td>3 F i s c a l Ye a r 2 0 2 4 A nnual Rep ort W...</td>\n",
       "      <td>1997</td>\n",
       "      <td>324</td>\n",
       "      <td>499.25</td>\n",
       "      <td>[ 6.79073781e-02  8.21321085e-02 -7.93926977e-...</td>\n",
       "    </tr>\n",
       "    <tr>\n",
       "      <th>1</th>\n",
       "      <td>-6</td>\n",
       "      <td>Sweet Baked Snacks ________________________ Sn...</td>\n",
       "      <td>1849</td>\n",
       "      <td>284</td>\n",
       "      <td>462.25</td>\n",
       "      <td>[ 2.92028822e-02 -1.07182015e-03 -4.24703397e-...</td>\n",
       "    </tr>\n",
       "    <tr>\n",
       "      <th>2</th>\n",
       "      <td>-5</td>\n",
       "      <td>F i s c a l Ye a r 2 0 2 4 A nnual Rep ort   5...</td>\n",
       "      <td>2029</td>\n",
       "      <td>345</td>\n",
       "      <td>507.25</td>\n",
       "      <td>[ 3.31293382e-02  9.90552604e-02 -2.53941510e-...</td>\n",
       "    </tr>\n",
       "    <tr>\n",
       "      <th>3</th>\n",
       "      <td>-5</td>\n",
       "      <td>Our entry into this category also amplifies ou...</td>\n",
       "      <td>1511</td>\n",
       "      <td>220</td>\n",
       "      <td>377.75</td>\n",
       "      <td>[ 2.08477713e-02  4.94901724e-02 -2.25071032e-...</td>\n",
       "    </tr>\n",
       "    <tr>\n",
       "      <th>4</th>\n",
       "      <td>-4</td>\n",
       "      <td>Playing to Win There are countless examples of...</td>\n",
       "      <td>1517</td>\n",
       "      <td>247</td>\n",
       "      <td>379.25</td>\n",
       "      <td>[ 1.54077811e-02  1.09549724e-01 -3.59133966e-...</td>\n",
       "    </tr>\n",
       "  </tbody>\n",
       "</table>\n",
       "</div>"
      ],
      "text/plain": [
       "   page_number                                     sentence_chunk  \\\n",
       "0           -6  3 F i s c a l Ye a r 2 0 2 4 A nnual Rep ort W...   \n",
       "1           -6  Sweet Baked Snacks ________________________ Sn...   \n",
       "2           -5  F i s c a l Ye a r 2 0 2 4 A nnual Rep ort   5...   \n",
       "3           -5  Our entry into this category also amplifies ou...   \n",
       "4           -4  Playing to Win There are countless examples of...   \n",
       "\n",
       "   chunk_char_count  chunk_word_count  chunk_token_count  \\\n",
       "0              1997               324             499.25   \n",
       "1              1849               284             462.25   \n",
       "2              2029               345             507.25   \n",
       "3              1511               220             377.75   \n",
       "4              1517               247             379.25   \n",
       "\n",
       "                                           embedding  \n",
       "0  [ 6.79073781e-02  8.21321085e-02 -7.93926977e-...  \n",
       "1  [ 2.92028822e-02 -1.07182015e-03 -4.24703397e-...  \n",
       "2  [ 3.31293382e-02  9.90552604e-02 -2.53941510e-...  \n",
       "3  [ 2.08477713e-02  4.94901724e-02 -2.25071032e-...  \n",
       "4  [ 1.54077811e-02  1.09549724e-01 -3.59133966e-...  "
      ]
     },
     "execution_count": 160,
     "metadata": {},
     "output_type": "execute_result"
    }
   ],
   "source": [
    "text_chunks_and_embedding_df_load = pd.read_csv(embeddings_df_save_path)\n",
    "text_chunks_and_embedding_df_load.head()"
   ]
  },
  {
   "cell_type": "code",
   "execution_count": 157,
   "metadata": {},
   "outputs": [
    {
     "data": {
      "text/plain": [
       "0      [7.274868213320213e-43, 6.000503458385137e-67,...\n",
       "1      [6.00749890362188e-67, 6.000503479975902e-67, ...\n",
       "2      [3.503687808615231e-33, 6.000503480492379e-67,...\n",
       "3      [9.066730728214348e-43, 6.000503501997793e-67,...\n",
       "4      [7.266096412840843e-43, 6.000503457780948e-67,...\n",
       "                             ...                        \n",
       "234    [4.85335515748854e-33, 6.00050354638736e-67, 1...\n",
       "235    [2.582046159013547e-57, 6.000503524192747e-67,...\n",
       "236    [1.3821442427327793e-47, 6.000503436103823e-67...\n",
       "237    [1.3813371930283845e-47, 6.000503546561099e-67...\n",
       "238    [1.0413742561915109e-42, 6.000503502256544e-67...\n",
       "Name: embedding, Length: 239, dtype: object"
      ]
     },
     "execution_count": 157,
     "metadata": {},
     "output_type": "execute_result"
    }
   ],
   "source": [
    "text_chunks_and_embedding_df_load['embedding']"
   ]
  },
  {
   "cell_type": "markdown",
   "metadata": {},
   "source": [
    "## Build a retreival model that uses vector search to find relevant piece of chunks based on user query <a class=\"anchor\" id=\"#fourth-bullet\"></a>"
   ]
  },
  {
   "cell_type": "code",
   "execution_count": 161,
   "metadata": {},
   "outputs": [],
   "source": [
    "import torch\n",
    "import numpy as np\n",
    "device = \"cuda\" if torch.cuda.is_available() else \"cpu\""
   ]
  },
  {
   "cell_type": "code",
   "execution_count": 162,
   "metadata": {},
   "outputs": [],
   "source": [
    "text_chunks_and_embedding_df_load['embedding'] = text_chunks_and_embedding_df_load['embedding'].astype(str)"
   ]
  },
  {
   "cell_type": "code",
   "execution_count": 155,
   "metadata": {},
   "outputs": [
    {
     "name": "stderr",
     "output_type": "stream",
     "text": [
      "C:\\Users\\Administrator\\AppData\\Local\\Temp\\ipykernel_13752\\1188215411.py:1: DeprecationWarning: The binary mode of fromstring is deprecated, as it behaves surprisingly on unicode inputs. Use frombuffer instead\n",
      "  text_chunks_and_embedding_df_load['embedding'] = text_chunks_and_embedding_df_load['embedding'].apply(lambda x:np.fromstring(x))\n"
     ]
    }
   ],
   "source": [
    "#text_chunks_and_embedding_df_load['embedding'] = text_chunks_and_embedding_df_load['embedding'].apply(lambda x:np.fromstring(x))"
   ]
  },
  {
   "cell_type": "code",
   "execution_count": 163,
   "metadata": {},
   "outputs": [],
   "source": [
    "text_chunks_and_embedding_df_load[\"embedding\"] = text_chunks_and_embedding_df_load[\"embedding\"].apply(lambda x: np.fromstring(x.strip(\"[]\"), sep=\" \"))"
   ]
  },
  {
   "cell_type": "code",
   "execution_count": 179,
   "metadata": {},
   "outputs": [],
   "source": [
    "## Conv embeddings to torch.tensor\n",
    "embeddings = torch.tensor(np.stack(text_chunks_and_embedding_df_load['embedding'].tolist(), axis=0), dtype=torch.float32).to(device)"
   ]
  },
  {
   "cell_type": "code",
   "execution_count": 164,
   "metadata": {},
   "outputs": [],
   "source": [
    "pages_and_chunks = text_chunks_and_embedding_df_load.to_dict(orient = \"records\")"
   ]
  },
  {
   "cell_type": "code",
   "execution_count": 165,
   "metadata": {},
   "outputs": [
    {
     "data": {
      "text/html": [
       "<div>\n",
       "<style scoped>\n",
       "    .dataframe tbody tr th:only-of-type {\n",
       "        vertical-align: middle;\n",
       "    }\n",
       "\n",
       "    .dataframe tbody tr th {\n",
       "        vertical-align: top;\n",
       "    }\n",
       "\n",
       "    .dataframe thead th {\n",
       "        text-align: right;\n",
       "    }\n",
       "</style>\n",
       "<table border=\"1\" class=\"dataframe\">\n",
       "  <thead>\n",
       "    <tr style=\"text-align: right;\">\n",
       "      <th></th>\n",
       "      <th>page_number</th>\n",
       "      <th>sentence_chunk</th>\n",
       "      <th>chunk_char_count</th>\n",
       "      <th>chunk_word_count</th>\n",
       "      <th>chunk_token_count</th>\n",
       "      <th>embedding</th>\n",
       "    </tr>\n",
       "  </thead>\n",
       "  <tbody>\n",
       "    <tr>\n",
       "      <th>0</th>\n",
       "      <td>-6</td>\n",
       "      <td>3 F i s c a l Ye a r 2 0 2 4 A nnual Rep ort W...</td>\n",
       "      <td>1997</td>\n",
       "      <td>324</td>\n",
       "      <td>499.25</td>\n",
       "      <td>[0.0679073781, 0.0821321085, -0.00793926977, -...</td>\n",
       "    </tr>\n",
       "    <tr>\n",
       "      <th>1</th>\n",
       "      <td>-6</td>\n",
       "      <td>Sweet Baked Snacks ________________________ Sn...</td>\n",
       "      <td>1849</td>\n",
       "      <td>284</td>\n",
       "      <td>462.25</td>\n",
       "      <td>[0.0292028822, -0.00107182015, -0.0424703397, ...</td>\n",
       "    </tr>\n",
       "    <tr>\n",
       "      <th>2</th>\n",
       "      <td>-5</td>\n",
       "      <td>F i s c a l Ye a r 2 0 2 4 A nnual Rep ort   5...</td>\n",
       "      <td>2029</td>\n",
       "      <td>345</td>\n",
       "      <td>507.25</td>\n",
       "      <td>[0.0331293382, 0.0990552604, -0.025394151, -0....</td>\n",
       "    </tr>\n",
       "    <tr>\n",
       "      <th>3</th>\n",
       "      <td>-5</td>\n",
       "      <td>Our entry into this category also amplifies ou...</td>\n",
       "      <td>1511</td>\n",
       "      <td>220</td>\n",
       "      <td>377.75</td>\n",
       "      <td>[0.0208477713, 0.0494901724, -0.0225071032, -0...</td>\n",
       "    </tr>\n",
       "    <tr>\n",
       "      <th>4</th>\n",
       "      <td>-4</td>\n",
       "      <td>Playing to Win There are countless examples of...</td>\n",
       "      <td>1517</td>\n",
       "      <td>247</td>\n",
       "      <td>379.25</td>\n",
       "      <td>[0.0154077811, 0.109549724, -0.0359133966, -0....</td>\n",
       "    </tr>\n",
       "  </tbody>\n",
       "</table>\n",
       "</div>"
      ],
      "text/plain": [
       "   page_number                                     sentence_chunk  \\\n",
       "0           -6  3 F i s c a l Ye a r 2 0 2 4 A nnual Rep ort W...   \n",
       "1           -6  Sweet Baked Snacks ________________________ Sn...   \n",
       "2           -5  F i s c a l Ye a r 2 0 2 4 A nnual Rep ort   5...   \n",
       "3           -5  Our entry into this category also amplifies ou...   \n",
       "4           -4  Playing to Win There are countless examples of...   \n",
       "\n",
       "   chunk_char_count  chunk_word_count  chunk_token_count  \\\n",
       "0              1997               324             499.25   \n",
       "1              1849               284             462.25   \n",
       "2              2029               345             507.25   \n",
       "3              1511               220             377.75   \n",
       "4              1517               247             379.25   \n",
       "\n",
       "                                           embedding  \n",
       "0  [0.0679073781, 0.0821321085, -0.00793926977, -...  \n",
       "1  [0.0292028822, -0.00107182015, -0.0424703397, ...  \n",
       "2  [0.0331293382, 0.0990552604, -0.025394151, -0....  \n",
       "3  [0.0208477713, 0.0494901724, -0.0225071032, -0...  \n",
       "4  [0.0154077811, 0.109549724, -0.0359133966, -0....  "
      ]
     },
     "execution_count": 165,
     "metadata": {},
     "output_type": "execute_result"
    }
   ],
   "source": [
    "text_chunks_and_embedding_df_load.head()"
   ]
  },
  {
   "cell_type": "code",
   "execution_count": 168,
   "metadata": {},
   "outputs": [
    {
     "data": {
      "text/plain": [
       "torch.Size([239, 768])"
      ]
     },
     "execution_count": 168,
     "metadata": {},
     "output_type": "execute_result"
    }
   ],
   "source": [
    "embeddings.shape"
   ]
  },
  {
   "cell_type": "code",
   "execution_count": 166,
   "metadata": {},
   "outputs": [
    {
     "data": {
      "text/plain": [
       "array([[ 0.06790738,  0.08213211, -0.00793927, ...,  0.01465533,\n",
       "        -0.02263444, -0.0186014 ],\n",
       "       [ 0.02920288, -0.00107182, -0.04247034, ...,  0.00500623,\n",
       "        -0.01001421,  0.00880301],\n",
       "       [ 0.03312934,  0.09905526, -0.02539415, ...,  0.01935057,\n",
       "        -0.03844151, -0.02104484],\n",
       "       ...,\n",
       "       [ 0.06734648,  0.07505167, -0.00978276, ..., -0.00980922,\n",
       "        -0.09349567, -0.02347752],\n",
       "       [ 0.0320469 ,  0.02435998,  0.01680931, ...,  0.0012963 ,\n",
       "        -0.05317358, -0.05849613],\n",
       "       [ 0.05297796,  0.03107661, -0.01693458, ..., -0.00430087,\n",
       "        -0.06053482, -0.02760598]])"
      ]
     },
     "execution_count": 166,
     "metadata": {},
     "output_type": "execute_result"
    }
   ],
   "source": [
    "# embeddings = np.stack(text_chunks_and_embedding_df_load['embedding'].tolist(), axis=0)\n",
    "# embeddings"
   ]
  },
  {
   "cell_type": "code",
   "execution_count": 170,
   "metadata": {},
   "outputs": [
    {
     "name": "stderr",
     "output_type": "stream",
     "text": [
      "C:\\Users\\Administrator\\Desktop\\Projects\\Local_LLM_RAG\\simple-local-rag\\venv\\Lib\\site-packages\\huggingface_hub\\file_download.py:1132: FutureWarning: `resume_download` is deprecated and will be removed in version 1.0.0. Downloads always resume when possible. If you want to force a new download, use `force_download=True`.\n",
      "  warnings.warn(\n"
     ]
    }
   ],
   "source": [
    "### Create Model\n",
    "from sentence_transformers import util, SentenceTransformer\n",
    "embedding_model = SentenceTransformer(model_name_or_path = \"all-mpnet-base-v2\",\n",
    "                                      device = device)"
   ]
  },
  {
   "cell_type": "code",
   "execution_count": 198,
   "metadata": {},
   "outputs": [
    {
     "name": "stdout",
     "output_type": "stream",
     "text": [
      "[INFO] Time taken to get scores on 239 embeddings: 0.00015 sec.\n"
     ]
    },
    {
     "data": {
      "text/plain": [
       "torch.return_types.topk(\n",
       "values=tensor([0.5675, 0.5434, 0.5227, 0.4445, 0.4396], device='cuda:0'),\n",
       "indices=tensor([104,  60,  19,  59, 166], device='cuda:0'))"
      ]
     },
     "execution_count": 198,
     "metadata": {},
     "output_type": "execute_result"
    }
   ],
   "source": [
    "query = \"commodities\" \n",
    "query_embedding = embedding_model.encode(query, convert_to_tensor=True).to(\"cuda\")\n",
    "\n",
    "### Get similarity scores with dot product (using cosine similarity)\n",
    "\n",
    "from time import perf_counter as timer\n",
    "\n",
    "start_time = timer()\n",
    "\n",
    "dot_scores = util.dot_score(a = query_embedding, b = embeddings)[0]\n",
    "end_time = timer()\n",
    "\n",
    "print(f\"[INFO] Time taken to get scores on {len(embeddings)} embeddings: {end_time - start_time:.5f} sec.\")\n",
    "\n",
    "top_results_dot_product = torch.topk(dot_scores, k=5)\n",
    "top_results_dot_product"
   ]
  },
  {
   "cell_type": "code",
   "execution_count": 199,
   "metadata": {},
   "outputs": [
    {
     "data": {
      "text/plain": [
       "torch.float32"
      ]
     },
     "execution_count": 199,
     "metadata": {},
     "output_type": "execute_result"
    }
   ],
   "source": [
    "query_embedding.dtype"
   ]
  },
  {
   "cell_type": "code",
   "execution_count": 200,
   "metadata": {},
   "outputs": [
    {
     "data": {
      "text/plain": [
       "torch.float32"
      ]
     },
     "execution_count": 200,
     "metadata": {},
     "output_type": "execute_result"
    }
   ],
   "source": [
    "embeddings[0].dtype"
   ]
  },
  {
   "cell_type": "code",
   "execution_count": 210,
   "metadata": {},
   "outputs": [],
   "source": [
    "#pages_and_chunks[104]"
   ]
  },
  {
   "cell_type": "code",
   "execution_count": 202,
   "metadata": {},
   "outputs": [],
   "source": [
    "import textwrap\n",
    "\n",
    "def print_wrapped(text, wrap_length = 80):\n",
    "    wrapped_text= textwrap.fill(text, wrap_length)\n",
    "    print(wrapped_text)"
   ]
  },
  {
   "cell_type": "code",
   "execution_count": 204,
   "metadata": {},
   "outputs": [
    {
     "name": "stdout",
     "output_type": "stream",
     "text": [
      "Query: 'commodities'\n",
      "\n",
      "Results:\n",
      "Score: 0.5675\n",
      "Text:\n",
      "Commodities Overview The raw materials we use in each of our segments are\n",
      "primarily commodities, agricultural-based products, and packaging materials. The\n",
      "most significant of these materials, based on 2024 annual spend, are green\n",
      "coffee, peanuts, oils and fats, flour, sugar, and fruit. Green coffee, corn,\n",
      "certain meals, oils, and grains are traded on active regulated exchanges, and\n",
      "the price of these commodities fluctuates based on market conditions. Derivative\n",
      "instruments, including futures and options, are used to minimize the impact of\n",
      "price volatility for these commodities. We source green coffee from more than 20\n",
      "coffee-producing countries. Its price is subject to high volatility due to\n",
      "factors such as weather, global supply and demand, product scarcity, plant\n",
      "disease, investor speculation, geopolitical conflicts (including the ongoing\n",
      "conflicts between Russia and Ukraine and Israel and Hamas), changes in\n",
      "governmental agricultural and energy policies and regulation, and political and\n",
      "economic conditions in the source countries. We source peanuts, protein meals,\n",
      "and oils and fats mainly from North America. We are one of the largest roasters\n",
      "of peanuts in the U. S. and frequently enter into long-term purchase contracts\n",
      "for various periods of time to mitigate the risk of a shortage of this\n",
      "commodity. The oils we purchase are mainly palm, soybean, and peanut. The price\n",
      "of peanuts, protein meals, and oils is driven primarily by weather, which\n",
      "impacts crop sizes and yield, as well as global demand, especially from large\n",
      "importing countries such as China and India.\n",
      "Page no:32\n",
      "\n",
      "\n",
      "Score: 0.5434\n",
      "Text:\n",
      "We and our business partners purchase and use large quantities of many different\n",
      "commodities and agricultural products in the manufacturing of our products,\n",
      "including green coffee, peanuts, oils and fats, flour, sugar, fruit, and other\n",
      "ingredients. In addition, we and our business partners utilize significant\n",
      "quantities of plastic, glass, metal cans, caps, carton board, and corrugate to\n",
      "package our products and natural gas and fuel oil to manufacture, package, and\n",
      "distribute our products. The prices of these commodities, agricultural-based\n",
      "products, and other materials are subject to volatility and can fluctuate due to\n",
      "conditions that are difficult to predict, including global supply and demand,\n",
      "commodity market fluctuations, crop sizes and yield fluctuations, adverse\n",
      "weather conditions, natural disasters, water supply, pandemic illness, foreign\n",
      "currency fluctuations, investor speculation, trade agreements (such as tariffs\n",
      "and sanctions), political instability, geopolitical conflicts, consumer demand,\n",
      "general economic conditions (such as inflationary pressures and rising interest\n",
      "rates), and changes in governmental agricultural programs. Furthermore,\n",
      "commodity and oil prices have been impacted by the ongoing conflicts between\n",
      "Russia and Ukraine and Israel and Hamas.17\n",
      "Page no:17\n",
      "\n",
      "\n",
      "Score: 0.5227\n",
      "Text:\n",
      "The availability, quality, and costs of many of these commodities have\n",
      "fluctuated, and may continue to fluctuate over time, partially driven by the\n",
      "elevated commodity and supply chain costs we have continued to experience in\n",
      "2024. We actively monitor changes in commodity and supply chain costs, and to\n",
      "mitigate the fluctuation of costs, we may be required to implement material\n",
      "price increases or decreases across our business. Futures, basis, options, and\n",
      "fixed-price contracts are used to manage price volatility for a significant\n",
      "portion of our commodity costs. Green coffee, along with certain other raw\n",
      "materials, is sourced solely from foreign countries, and its supply and price is\n",
      "subject to high volatility due to factors such as weather, global supply and\n",
      "demand, product scarcity, plant disease, investor speculation, geopolitical\n",
      "conflicts (including the ongoing conflicts between Russia and Ukraine and Israel\n",
      "and Hamas), changes in governmental agricultural and energy policies and\n",
      "regulations, and political and economic conditions in the source countries. We\n",
      "source peanuts, protein meals, and oils and fats mainly from North America. The\n",
      "principal packaging materials we use are plastic, glass, metal cans, caps,\n",
      "carton board, and corrugate. For additional information on the commodities we\n",
      "purchase, see “Commodities Overview” within Management’s Discussion and Analysis\n",
      "of Financial Condition and Results of Operations in this Annual Report on Form\n",
      "10-K. Raw materials are generally available from numerous sources, although we\n",
      "have elected to source certain plastic packaging materials for our Folgers®\n",
      "coffee products, as well as our Jif® peanut butter, and certain finished goods,\n",
      "such as K-Cup® pods, our Pup-Peroni® dog snacks, and liquid coffee, from primary\n",
      "or single sources of supply pursuant to long-term contracts. While availability\n",
      "may vary year to year, we have not historically encountered significant\n",
      "shortages of key raw materials, and we believe that we will continue to obtain\n",
      "adequate supplies. We consider our relationships with key raw material suppliers\n",
      "to be in good standing. Trademarks and Patents: Many of our products are\n",
      "produced and sold under various patents and patents pending, and marketed under\n",
      "trademarks owned or licensed by us or one of our subsidiaries.\n",
      "Page no:3\n",
      "\n",
      "\n",
      "Score: 0.4445\n",
      "Text:\n",
      "Consumers may not buy our products if relative differences in value and/or\n",
      "quality between our products and private label products change in favor of\n",
      "competitors’ products or if consumers perceive this type of change and choose\n",
      "the lower-priced brands. If consumers prefer private label products, which are\n",
      "typically sold at lower prices, then we could lose category share or sales\n",
      "volumes and/or shift our product mix to lower margin offerings, which could have\n",
      "a material effect on our business, financial position, and results of\n",
      "operations. Our ability to competitively serve customers depends on the\n",
      "availability of reliable transportation. Increases in logistics and other\n",
      "transportation-related costs could adversely impact our results of operations.\n",
      "Logistics and other transportation-related costs have a significant impact on\n",
      "our earnings and results of operations. We use multiple forms of transportation,\n",
      "including ships, trucks, railcars, and third-party carriers, to bring our\n",
      "products to market. Disruption to the timely supply of these services or\n",
      "increases in the cost of these services for any reason, including availability\n",
      "or cost of fuel, regulations affecting the industry, labor shortages in the\n",
      "transportation industry, service failures by third-party service providers,\n",
      "carrier capacity, accidents, natural disasters, inflation, a pandemic illness,\n",
      "or a cybersecurity breach or attack, may impact our ability to obtain reliable\n",
      "transportation for products. Our procurement of transportation services from a\n",
      "diversified group of carriers and continuous monitoring of our transportation\n",
      "methods could be insufficient to protect us from changes in market demand or\n",
      "carrier capacity. The inability to distribute our products in a cost-effective\n",
      "manner could have a material adverse effect on our ability to serve our\n",
      "customers, our business, financial condition, and results of operations.\n",
      "Financial Risks Our results may be adversely impacted as a result of increased\n",
      "cost, limited availability, and/or insufficient quality of raw materials,\n",
      "including commodities and agricultural products.\n",
      "Page no:16\n",
      "\n",
      "\n",
      "Score: 0.4396\n",
      "Text:\n",
      "The principal packaging materials we use are plastic, glass, metal cans, caps,\n",
      "carton board, and corrugate. Green coffee, peanuts, oils and fats, flour, sugar,\n",
      "fruit, and other ingredients are obtained from various suppliers. The\n",
      "availability, quality, and costs of many of these commodities have fluctuated,\n",
      "and may continue to fluctuate over time, partially driven by the elevated\n",
      "commodity and supply chain costs we experienced in 2024. We actively monitor\n",
      "changes in commodity and supply chain costs, and to mitigate the rising costs,\n",
      "we may be required to implement material 62\n",
      "Page no:61\n",
      "\n",
      "\n"
     ]
    }
   ],
   "source": [
    "query = \"commodities\"\n",
    "print(f\"Query: '{query}'\\n\")\n",
    "print(\"Results:\")\n",
    "\n",
    "for score, idx in zip(top_results_dot_product[0], top_results_dot_product[1]):\n",
    "    print(f\"Score: {score:.4f}\")\n",
    "    print(\"Text:\")\n",
    "    print_wrapped(pages_and_chunks[idx][\"sentence_chunk\"])\n",
    "    print(f\"Page no:{page_and_chunks[idx]['page_number']}\")\n",
    "    print(\"\\n\")"
   ]
  },
  {
   "cell_type": "markdown",
   "metadata": {},
   "source": [
    "Note: We can potentially improve the order of these results with a reranking model. "
   ]
  },
  {
   "cell_type": "code",
   "execution_count": 206,
   "metadata": {},
   "outputs": [
    {
     "name": "stdout",
     "output_type": "stream",
     "text": [
      "FY24_AnnualReport__FINAL-web.pdf\n"
     ]
    }
   ],
   "source": [
    "print(pdf_name)"
   ]
  },
  {
   "cell_type": "code",
   "execution_count": 211,
   "metadata": {},
   "outputs": [
    {
     "data": {
      "image/png": "[encoded data removed]",
      "text/plain": [
       "<Figure size 1300x1000 with 1 Axes>"
      ]
     },
     "metadata": {},
     "output_type": "display_data"
    }
   ],
   "source": [
    "import fitz\n",
    "\n",
    "doc = fitz.open(pdf_name)\n",
    "page = doc.load_page(34+8) \n",
    "\n",
    "img = page.get_pixmap(dpi=300)\n",
    "doc.close()\n",
    "\n",
    "img_array = np.frombuffer(img.samples_mv,\n",
    "                          dtype = np.uint8).reshape((img.h, img.w, img.n))\n",
    "\n",
    "import matplotlib.pyplot as plt\n",
    "plt.figure(figsize = (13,10))\n",
    "plt.imshow(img_array)\n",
    "plt.title(f\"Query: 'query' | Most relevant page:\")\n",
    "plt.show()"
   ]
  },
  {
   "cell_type": "markdown",
   "metadata": {},
   "source": [
    "#### Similarity Measures: dot product and cosine similarity"
   ]
  },
  {
   "cell_type": "markdown",
   "metadata": {},
   "source": [
    "### Functioning the semantic search pipeline"
   ]
  },
  {
   "cell_type": "code",
   "execution_count": 214,
   "metadata": {},
   "outputs": [],
   "source": [
    "def retreive_relevant_resources(query:str,\n",
    "                                embeddings: torch.tensor,\n",
    "                                model: SentenceTransformer = embedding_model,\n",
    "                                n_resources_to_return: int=5,\n",
    "                                print_time : bool = True):\n",
    "    query_embedding = model.encode(query, convert_to_tensor = True)\n",
    "    start_time = timer()\n",
    "    dot_scores = util.dot_score(query_embedding, embeddings)[0]\n",
    "    end_time = timer()\n",
    "    if print_time:\n",
    "        print(f\"[INFO] time taken to get scores on ({len(embeddings)} embeddings : {end_time-start_time:.5f} sec.\")\n",
    "    scores , indices = torch.topk(input = dot_scores,\n",
    "                                    k = n_resources_to_return)\n",
    "    return scores, indices\n",
    "\n",
    "def print_top_results_and_scores(query:str,\n",
    "                                 embeddings:torch.tensor,\n",
    "                                 pages_and_chunks: list[dict]=pages_and_chunks,\n",
    "                                 n_resources_to_return: int = 5):\n",
    "    scores, indices = retreive_relevant_resources(query = query,\n",
    "                                                  embeddings = embeddings,\n",
    "                                                  n_resources_to_return=n_resources_to_return)\n",
    "    \n",
    "    for score, idx in zip(scores, indices):\n",
    "        print(f\"Score: {score:.4f}\")\n",
    "        print(\"Text:\")\n",
    "        print_wrapped(pages_and_chunks[idx][\"sentence_chunk\"])\n",
    "        print(f\"Page no:{page_and_chunks[idx]['page_number']}\")\n",
    "        print(\"\\n\")"
   ]
  },
  {
   "cell_type": "code",
   "execution_count": 216,
   "metadata": {},
   "outputs": [
    {
     "name": "stdout",
     "output_type": "stream",
     "text": [
      "[INFO] time taken to get scores on (239 embeddings : 0.00025 sec.\n",
      "Score: 0.6582\n",
      "Text:\n",
      "Further, the historical U. S. Retail Consumer Foods reportable segment has been\n",
      "renamed to U. S. Retail Frozen Handheld and Spreads; however, there is no change\n",
      "to the manner in which the segment was previously presented. For additional\n",
      "information on our reportable segments, see Note 5: Reportable Segments. The U.\n",
      "S. retail market segments and Sweet Baked Snacks segment in total comprised 85\n",
      "percent of consolidated net sales in 2024 and represent a major portion of our\n",
      "strategic focus – the sale of branded food and beverage products with leadership\n",
      "positions to consumers through retail outlets in North America. Products within\n",
      "our U. S. retail market segments are primarily sold through a combination of\n",
      "direct sales and brokers to food retailers, club stores, discount and dollar\n",
      "stores, online retailers, pet specialty stores, drug stores, military\n",
      "commissaries, mass merchandisers, and distributors. The Sweet Baked Snacks\n",
      "segment includes products distributed in all channels, both domestically and in\n",
      "foreign countries, such as supermarket chains, national mass retailers,\n",
      "convenience stores, club stores, discount and dollar stores, drug stores, and\n",
      "the vending channel. International and Away From Home includes the sale of all\n",
      "products that are distributed in foreign countries through retail channels, as\n",
      "well as domestically and in foreign countries through foodservice distributors\n",
      "and operators (e.g., healthcare operators, restaurants, educational\n",
      "institutions, offices, lodging and gaming establishments, and convenience\n",
      "stores). Strategic Overview We remain rooted in our Basic Beliefs to Be Bold, Be\n",
      "Kind, Do the Right Thing, Play to Win, and Thrive Together. They were\n",
      "established by our founder and namesake, Jerome Smucker, more than a century ago\n",
      "and are the core of our unique corporate culture, serving as the foundation for\n",
      "decision-making and how we interact with our colleagues and partners. While our\n",
      "Basic Beliefs have evolved over time as we have grown, we remain unwavering in\n",
      "our commitment to these core values and recognize how we are called to act upon\n",
      "them will continue to transform as the world around us does. In addition, we\n",
      "have been led by five generations of family leadership, having had only six\n",
      "chief executive officers in over 125 years.\n",
      "Page no:26\n",
      "\n",
      "\n",
      "Score: 0.6445\n",
      "Text:\n",
      "Sweet Baked Snacks ________________________ Snacking remains one of the fastest-\n",
      "growing center-of-store categories, with indulgent snacking growing even faster\n",
      "than alternatives. We are excited for the opportunities to expand on our\n",
      "leadership in the sweet baked goods category through investment in our Hostess ®\n",
      "and Voortman ® brands, including continued focus on leading in innovation and\n",
      "expanding marketing. Hostess® continued its innovation leadership with\n",
      "successful introductions including Hostess® Kazbars™, the HoneyBun Flavored\n",
      "Donettes® mashup, and the launch of Hostess® Meltamors™. Voortman ® maintained\n",
      "its leading position in the zero-sugar cookie category while expanding its\n",
      "ability to deliver on the needs of consumers with the launch of Voortman ®\n",
      "Perfectly Sweet™, a reduced-sugar cookie offering that has 25 percent less sugar\n",
      "than the leading cookie without compromising taste or flavor. Coffee\n",
      "__________________________________ We are a leader in the at-home coffee\n",
      "category, one that remains strong with  70 percent of cups consumed at home. Our\n",
      "portfolio includes three of the  top seven brands with Folgers ®, Dunkin’ ®, and\n",
      "Café Bustelo ®. Folgers® maintained volume leadership and remains the #1 brand\n",
      "in the  category, recently celebrating consumer preference for the taste of its\n",
      "Folgers® Black Silk offering compared to the leading competitor. Café Bustelo®\n",
      "remains one of the fastest-growing brands in the category and has delivered\n",
      "double-digit net sales growth in 10 of the last 11  quarters, with further\n",
      "innovation and marketing planned to spur  continued growth. Dunkin’ ® has taken\n",
      "the #2 position in the shelf stable liquid  coffee concentrate category\n",
      "following the launch of Dunkin’ ®  liquid concentrates, and we continue to\n",
      "invest in the brand  to build on its strong position in this important segment.\n",
      "Page no:-6\n",
      "\n",
      "\n",
      "Score: 0.6032\n",
      "Text:\n",
      "did not include any branded products or our private label wet pet food business.\n",
      "Under our ownership, the business generated net sales of $62.3 in 2022, included\n",
      "in the U. S. Retail Pet Foods segment. For additional information on the\n",
      "acquisition and divestitures, see Note 2: Acquisition and Note 3: Divestitures.\n",
      "Principal Products: In 2024, our principal products were coffee, pet snacks,\n",
      "peanut butter, cat food, frozen handheld products, sweet baked goods, fruit\n",
      "spreads, portion control products, baking mixes and ingredients, toppings and\n",
      "syrups, dog food, and cookies. Product sales information for the years 2024,\n",
      "2023, and 2022 is included within Note 5: Reportable Segments. Products within\n",
      "our U. S. retail market segments are primarily sold through a combination of\n",
      "direct sales and brokers to food retailers, club stores, discount and dollar\n",
      "stores, online retailers, pet specialty stores, drug stores, military\n",
      "commissaries, mass merchandisers, and distributors. The Sweet Baked Snacks\n",
      "segment includes products distributed across all channels, both domestically and\n",
      "in foreign countries, such as supermarket chains, national mass retailers,\n",
      "convenience stores, club stores, discount and dollar stores, drug stores, and\n",
      "the vending channel. International and Away From Home includes the sale of all\n",
      "products that are distributed in foreign countries through retail channels, as\n",
      "well as domestically and in foreign countries through foodservice distributors\n",
      "and operators (e.g., healthcare operators, restaurants, educational\n",
      "institutions, offices, lodging and gaming establishments, and convenience\n",
      "stores). Sources and Availability of Raw Materials: The raw materials used in\n",
      "each of our segments are primarily commodities, agricultural-based products, and\n",
      "packaging materials. Green coffee, peanuts, oils and fats, flour, sugar, fruit,\n",
      "and other ingredients are obtained from various suppliers.\n",
      "Page no:2\n",
      "\n",
      "\n",
      "Score: 0.5957\n",
      "Text:\n",
      "Our entry into this category also amplifies our focus on convenient food and\n",
      "beverage occasions, allowing us to meet consumer preferences and needs across\n",
      "all parts of the day. In addition to the opportunity to serve as steward for the\n",
      "Hostess Brands portfolio, we are excited about the highly complementary\n",
      "capabilities of our businesses. We will benefit from the Hostess Brands proven\n",
      "innovation platform and convenience channel presence. Our sweet baked snacks\n",
      "business will gain advantages from our commercial organization, which includes\n",
      "our best-in-class capabilities in brand-building and marketing, consumer\n",
      "insights, and sales, along with our presence and strong relationships in the\n",
      "grocery and mass channels.  Lastly, the acquisition of Hostess Brands increases\n",
      "confidence in delivering on our long-term financial goals by advancing our\n",
      "scale, profitability, and cash flow. We are focused on building Hostess Brands\n",
      "into a snacking powerhouse by accelerating advertising of the brands; continuing\n",
      "to support the productivity of the proven innovation engine; expanding\n",
      "distribution, including through our  Away From Home channels; ensuring diligent\n",
      "revenue growth management; and driving enhanced presence in e-commerce. With the\n",
      "addition of our sweet baked snacks business, we further strengthen  our\n",
      "portfolio of brands and create new opportunities to serve consumers, support our\n",
      "ability to deliver on our financial aspirations, and ultimately create long-term\n",
      "shareholder value.  Dear Shareholders\n",
      "Page no:-5\n",
      "\n",
      "\n",
      "Score: 0.5867\n",
      "Text:\n",
      "Additionally, we sell products both domestically and in foreign countries\n",
      "through retail channels and foodservice distributors and operators through the\n",
      "Sweet Baked Snacks segment and the combined International and Away From Home\n",
      "operating segments. During 2024, the historical U. S. Retail Consumer Foods\n",
      "reportable segment was renamed to U. S. Retail Frozen Handheld and Spreads;\n",
      "however, there was no change to the manner in which the segment was previously\n",
      "presented. For additional information on our reportable segments, see Note 5:\n",
      "Reportable Segments. On January 2, 2024, we sold the Canada condiment business\n",
      "to TreeHouse Foods, Inc. (“TreeHouse Foods”). The transaction included Bick’s®\n",
      "pickles, Habitant® pickled beets, Woodman’s® horseradish, and McLarens® pickled\n",
      "onions brands, inclusive of certain trademarks. Under our ownership, these\n",
      "brands generated net sales of $43.8, $61.6, and $62.7 in 2024, 2023, and 2022,\n",
      "respectively, which were included in the International operating segment. On\n",
      "November 1, 2023, we sold the Sahale Snacks® business to Second Nature Brands\n",
      "(“Second Nature”). The transaction included products sold under the Sahale\n",
      "Snacks brand, inclusive of certain trademarks and licensing agreements, a leased\n",
      "manufacturing facility in Seattle, Washington, and approximately 100 employees\n",
      "who supported the brand. Under our ownership, the Sahale Snacks brand generated\n",
      "net sales of $24.1, $48.4, and $47.4 in 2024, 2023, and 2022, respectively,\n",
      "primarily included in the U. S. Retail Frozen Handheld and Spreads segment. On\n",
      "April 28, 2023, we sold certain pet food brands to Post Holdings, Inc. (“Post”).\n",
      "Page no:2\n",
      "\n",
      "\n"
     ]
    }
   ],
   "source": [
    "query = 'sweet snacks based goods'\n",
    "#retreive_relevant_resources(query = query, embeddings = embeddings)\n",
    "print_top_results_and_scores(query = query, embeddings = embeddings)"
   ]
  },
  {
   "cell_type": "markdown",
   "metadata": {},
   "source": [
    "## Getting a LLM for local generation"
   ]
  },
  {
   "cell_type": "code",
   "execution_count": 218,
   "metadata": {},
   "outputs": [
    {
     "name": "stdout",
     "output_type": "stream",
     "text": [
      "GPU memory: 11.0 GB\n"
     ]
    }
   ],
   "source": [
    "### Hugging face : TheBloke - Provides quantized model \n",
    "### Checking GPU Avaliable Mem\n",
    "gpu_memory_gb = round(torch.cuda.get_device_properties(0).total_memory / (1024 ** 3),2)\n",
    "print(f\"GPU memory: {gpu_memory_gb} GB\")"
   ]
  },
  {
   "cell_type": "markdown",
   "metadata": {},
   "source": [
    "`Gemma-7b-it` - Stands for Instruction Tuned"
   ]
  },
  {
   "cell_type": "code",
   "execution_count": 219,
   "metadata": {},
   "outputs": [
    {
     "name": "stdout",
     "output_type": "stream",
     "text": [
      "GPU memory: 11.0 | Recommended model: Gemma 2B in float16 or Gemma 7B in 4-bit precision.\n",
      "use_quantization_config set to: False\n",
      "model_id set to: google/gemma-2b-it\n"
     ]
    }
   ],
   "source": [
    "# Note: the following is Gemma focused, however, there are more and more LLMs of the 2B and 7B size appearing for local use.\n",
    "if gpu_memory_gb < 5.1:\n",
    "    print(f\"Your available GPU memory is {gpu_memory_gb}GB, you may not have enough memory to run a Gemma LLM locally without quantization.\")\n",
    "elif gpu_memory_gb < 8.1:\n",
    "    print(f\"GPU memory: {gpu_memory_gb} | Recommended model: Gemma 2B in 4-bit precision.\")\n",
    "    use_quantization_config = True \n",
    "    model_id = \"google/gemma-2b-it\"\n",
    "elif gpu_memory_gb < 19.0:\n",
    "    print(f\"GPU memory: {gpu_memory_gb} | Recommended model: Gemma 2B in float16 or Gemma 7B in 4-bit precision.\")\n",
    "    use_quantization_config = False \n",
    "    model_id = \"google/gemma-2b-it\"\n",
    "elif gpu_memory_gb > 19.0:\n",
    "    print(f\"GPU memory: {gpu_memory_gb} | Recommend model: Gemma 7B in 4-bit or float16 precision.\")\n",
    "    use_quantization_config = False \n",
    "    model_id = \"google/gemma-7b-it\"\n",
    "\n",
    "print(f\"use_quantization_config set to: {use_quantization_config}\")\n",
    "print(f\"model_id set to: {model_id}\")"
   ]
  },
  {
   "cell_type": "code",
   "execution_count": 224,
   "metadata": {},
   "outputs": [
    {
     "name": "stderr",
     "output_type": "stream",
     "text": [
      "C:\\Users\\Administrator\\Desktop\\Projects\\Local_LLM_RAG\\simple-local-rag\\venv\\Lib\\site-packages\\huggingface_hub\\file_download.py:1132: FutureWarning: `resume_download` is deprecated and will be removed in version 1.0.0. Downloads always resume when possible. If you want to force a new download, use `force_download=True`.\n",
      "  warnings.warn(\n"
     ]
    },
    {
     "data": {
      "application/vnd.jupyter.widget-view+json": {
       "model_id": "0764091be20d4f8fbfbd91d187075b56",
       "version_major": 2,
       "version_minor": 0
      },
      "text/plain": [
       "tokenizer_config.json:   0%|          | 0.00/34.2k [00:00<?, ?B/s]"
      ]
     },
     "metadata": {},
     "output_type": "display_data"
    },
    {
     "data": {
      "application/vnd.jupyter.widget-view+json": {
       "model_id": "e8abd7b63c1940fe804873d5aff825a5",
       "version_major": 2,
       "version_minor": 0
      },
      "text/plain": [
       "tokenizer.model:   0%|          | 0.00/4.24M [00:00<?, ?B/s]"
      ]
     },
     "metadata": {},
     "output_type": "display_data"
    },
    {
     "data": {
      "application/vnd.jupyter.widget-view+json": {
       "model_id": "5f2ab7af3a5444db897a2adec6941f1a",
       "version_major": 2,
       "version_minor": 0
      },
      "text/plain": [
       "tokenizer.json:   0%|          | 0.00/17.5M [00:00<?, ?B/s]"
      ]
     },
     "metadata": {},
     "output_type": "display_data"
    },
    {
     "data": {
      "application/vnd.jupyter.widget-view+json": {
       "model_id": "6e3de7d0fca74f5fa68b0a512dff430c",
       "version_major": 2,
       "version_minor": 0
      },
      "text/plain": [
       "special_tokens_map.json:   0%|          | 0.00/636 [00:00<?, ?B/s]"
      ]
     },
     "metadata": {},
     "output_type": "display_data"
    },
    {
     "data": {
      "application/vnd.jupyter.widget-view+json": {
       "model_id": "4423128daa5a485a9ba413ec22f825c7",
       "version_major": 2,
       "version_minor": 0
      },
      "text/plain": [
       "config.json:   0%|          | 0.00/627 [00:00<?, ?B/s]"
      ]
     },
     "metadata": {},
     "output_type": "display_data"
    },
    {
     "data": {
      "application/vnd.jupyter.widget-view+json": {
       "model_id": "dcaa4d61743d4bc3940ef6f14adb1d18",
       "version_major": 2,
       "version_minor": 0
      },
      "text/plain": [
       "model.safetensors.index.json:   0%|          | 0.00/13.5k [00:00<?, ?B/s]"
      ]
     },
     "metadata": {},
     "output_type": "display_data"
    },
    {
     "data": {
      "application/vnd.jupyter.widget-view+json": {
       "model_id": "b6945097284541f98a24f3e1dbc1bff7",
       "version_major": 2,
       "version_minor": 0
      },
      "text/plain": [
       "Downloading shards:   0%|          | 0/2 [00:00<?, ?it/s]"
      ]
     },
     "metadata": {},
     "output_type": "display_data"
    },
    {
     "data": {
      "application/vnd.jupyter.widget-view+json": {
       "model_id": "dbda0e7f94ff4a6286d57c7349ee3d21",
       "version_major": 2,
       "version_minor": 0
      },
      "text/plain": [
       "model-00001-of-00002.safetensors:   0%|          | 0.00/4.95G [00:00<?, ?B/s]"
      ]
     },
     "metadata": {},
     "output_type": "display_data"
    },
    {
     "data": {
      "application/vnd.jupyter.widget-view+json": {
       "model_id": "fba895779cc4407297b486539effd902",
       "version_major": 2,
       "version_minor": 0
      },
      "text/plain": [
       "model-00002-of-00002.safetensors:   0%|          | 0.00/67.1M [00:00<?, ?B/s]"
      ]
     },
     "metadata": {},
     "output_type": "display_data"
    },
    {
     "data": {
      "application/vnd.jupyter.widget-view+json": {
       "model_id": "db05b93036904a7ba6cec990cd5e8c1d",
       "version_major": 2,
       "version_minor": 0
      },
      "text/plain": [
       "Loading checkpoint shards:   0%|          | 0/2 [00:00<?, ?it/s]"
      ]
     },
     "metadata": {},
     "output_type": "display_data"
    },
    {
     "data": {
      "application/vnd.jupyter.widget-view+json": {
       "model_id": "6bd6f12b0281457abeba1192e431b2e7",
       "version_major": 2,
       "version_minor": 0
      },
      "text/plain": [
       "generation_config.json:   0%|          | 0.00/137 [00:00<?, ?B/s]"
      ]
     },
     "metadata": {},
     "output_type": "display_data"
    }
   ],
   "source": [
    "### Loading the Model \n",
    "### Note: Tokenizer is different from the embeddings model\n",
    "### Note: There are many tricks to loand/make the LLM Work faster. One of the best ones is the flash-attn (Flash Attention 2)\n",
    "import torch\n",
    "from transformers import AutoTokenizer, AutoModelForCausalLM\n",
    "from transformers.utils import is_flash_attn_2_available \n",
    "\n",
    "from transformers import BitsAndBytesConfig \n",
    "quantization_config = BitsAndBytesConfig(load_in_4bit = True,\n",
    "                                         bnb_4bit_compute_dtype = torch.float16)\n",
    "\n",
    "\n",
    "if (is_flash_attn_2_available()) and (torch.cuda.get_device_capability(0)[0] >= 8):\n",
    "    attn_implementation = 'flash_attention_2'\n",
    "else:\n",
    "    attn_implementation = 'sdpa' ## Scales dot product attention\n",
    "\n",
    "\n",
    "model_id = model_id\n",
    "\n",
    "tokenizer = AutoTokenizer.from_pretrained(pretrained_model_name_or_path = model_id)\n",
    "\n",
    "llm_model = AutoModelForCausalLM.from_pretrained(pretrained_model_name_or_path = model_id,\n",
    "                                                 torch_dtype = torch.float16,\n",
    "                                                 quantization_config = quantization_config if use_quantization_config else None,\n",
    "                                                 low_cpu_mem_usage = False,\n",
    "                                                 attn_implementation = attn_implementation)\n",
    "                                                        \n",
    "\n",
    "if not use_quantization_config:\n",
    "    llm_model.to(\"cuda\")"
   ]
  },
  {
   "cell_type": "code",
   "execution_count": 221,
   "metadata": {},
   "outputs": [
    {
     "data": {
      "text/plain": [
       "6"
      ]
     },
     "execution_count": 221,
     "metadata": {},
     "output_type": "execute_result"
    }
   ],
   "source": [
    "torch.cuda.get_device_capability(0)[0]"
   ]
  },
  {
   "cell_type": "code",
   "execution_count": 225,
   "metadata": {},
   "outputs": [
    {
     "name": "stdout",
     "output_type": "stream",
     "text": [
      "Using attention implementation: sdpa\n"
     ]
    }
   ],
   "source": [
    "print(f\"Using attention implementation: {attn_implementation}\")"
   ]
  },
  {
   "cell_type": "code",
   "execution_count": 226,
   "metadata": {},
   "outputs": [
    {
     "data": {
      "text/plain": [
       "GemmaForCausalLM(\n",
       "  (model): GemmaModel(\n",
       "    (embed_tokens): Embedding(256000, 2048, padding_idx=0)\n",
       "    (layers): ModuleList(\n",
       "      (0-17): 18 x GemmaDecoderLayer(\n",
       "        (self_attn): GemmaSdpaAttention(\n",
       "          (q_proj): Linear(in_features=2048, out_features=2048, bias=False)\n",
       "          (k_proj): Linear(in_features=2048, out_features=256, bias=False)\n",
       "          (v_proj): Linear(in_features=2048, out_features=256, bias=False)\n",
       "          (o_proj): Linear(in_features=2048, out_features=2048, bias=False)\n",
       "          (rotary_emb): GemmaRotaryEmbedding()\n",
       "        )\n",
       "        (mlp): GemmaMLP(\n",
       "          (gate_proj): Linear(in_features=2048, out_features=16384, bias=False)\n",
       "          (up_proj): Linear(in_features=2048, out_features=16384, bias=False)\n",
       "          (down_proj): Linear(in_features=16384, out_features=2048, bias=False)\n",
       "          (act_fn): GELUActivation()\n",
       "        )\n",
       "        (input_layernorm): GemmaRMSNorm()\n",
       "        (post_attention_layernorm): GemmaRMSNorm()\n",
       "      )\n",
       "    )\n",
       "    (norm): GemmaRMSNorm()\n",
       "  )\n",
       "  (lm_head): Linear(in_features=2048, out_features=256000, bias=False)\n",
       ")"
      ]
     },
     "execution_count": 226,
     "metadata": {},
     "output_type": "execute_result"
    }
   ],
   "source": [
    "llm_model"
   ]
  },
  {
   "cell_type": "code",
   "execution_count": 227,
   "metadata": {},
   "outputs": [],
   "source": [
    "def get_model_num_params(model:torch.nn.Module):\n",
    "    return sum([param.numel() for param in model.parameters()])"
   ]
  },
  {
   "cell_type": "code",
   "execution_count": 228,
   "metadata": {},
   "outputs": [
    {
     "data": {
      "text/plain": [
       "2506172416"
      ]
     },
     "execution_count": 228,
     "metadata": {},
     "output_type": "execute_result"
    }
   ],
   "source": [
    "get_model_num_params(llm_model)"
   ]
  },
  {
   "cell_type": "code",
   "execution_count": 231,
   "metadata": {},
   "outputs": [
    {
     "data": {
      "text/plain": [
       "{'model_mem_bytes': 5079453696, 'model_mem_mb': 4844.14, 'model_mem_gb': 4.73}"
      ]
     },
     "execution_count": 231,
     "metadata": {},
     "output_type": "execute_result"
    }
   ],
   "source": [
    "def get_model_mem_size(model: torch.nn.Module):\n",
    "    \"\"\"\n",
    "    Get how much memory a PyTorch model takes up.\n",
    "\n",
    "    See: https://discuss.pytorch.org/t/gpu-memory-that-model-uses/56822\n",
    "    \"\"\"\n",
    "    # Get model parameters and buffer sizes\n",
    "    mem_params = sum([param.nelement() * param.element_size() for param in model.parameters()])\n",
    "    mem_buffers = sum([buf.nelement() * buf.element_size() for buf in model.buffers()])\n",
    "\n",
    "    # Calculate various model sizes\n",
    "    model_mem_bytes = mem_params + mem_buffers # in bytes\n",
    "    model_mem_mb = model_mem_bytes / (1024**2) # in megabytes\n",
    "    model_mem_gb = model_mem_bytes / (1024**3) # in gigabytes\n",
    "\n",
    "    return {\"model_mem_bytes\": model_mem_bytes,\n",
    "            \"model_mem_mb\": round(model_mem_mb, 2),\n",
    "            \"model_mem_gb\": round(model_mem_gb, 2)}\n",
    "\n",
    "get_model_mem_size(llm_model)"
   ]
  },
  {
   "cell_type": "markdown",
   "metadata": {},
   "source": [
    "### Generate Text with LLM Locally"
   ]
  },
  {
   "cell_type": "code",
   "execution_count": 232,
   "metadata": {},
   "outputs": [
    {
     "name": "stdout",
     "output_type": "stream",
     "text": [
      "Input Text:\n",
      "How was the financial performance of Smucker in FY23\n",
      "\n",
      "Prompt (formatted):\n",
      "<bos><start_of_turn>user\n",
      "How was the financial performance of Smucker in FY23<end_of_turn>\n",
      "<start_of_turn>model\n",
      "\n"
     ]
    }
   ],
   "source": [
    "input_text = 'How was the financial performance of Smucker in FY23'\n",
    "print(f\"Input Text:\\n{input_text}\")\n",
    "\n",
    "### Creating a prompt tempate for IT model\n",
    "dialogue_template = [\n",
    "    {\"role\":\"user\",\n",
    "     \"content\":input_text}]\n",
    "\n",
    "prompt = tokenizer.apply_chat_template(conversation = dialogue_template,\n",
    "                                       tokenize = False,\n",
    "                                       add_generation_prompt = True)\n",
    "print(f\"\\nPrompt (formatted):\\n{prompt}\")"
   ]
  },
  {
   "cell_type": "code",
   "execution_count": 234,
   "metadata": {},
   "outputs": [
    {
     "name": "stdout",
     "output_type": "stream",
     "text": [
      "CPU times: total: 31.2 ms\n",
      "Wall time: 79.8 ms\n"
     ]
    },
    {
     "data": {
      "text/plain": [
       "{'input_ids': tensor([[     2,      2,    106,   1645,    108,   2299,    729,    573,   6895,\n",
       "           4665,    576,   3949,  20348,    575,  36130, 235284, 235304,    107,\n",
       "            108,    106,   2516,    108]], device='cuda:0'), 'attention_mask': tensor([[1, 1, 1, 1, 1, 1, 1, 1, 1, 1, 1, 1, 1, 1, 1, 1, 1, 1, 1, 1, 1, 1]],\n",
       "       device='cuda:0')}"
      ]
     },
     "execution_count": 234,
     "metadata": {},
     "output_type": "execute_result"
    }
   ],
   "source": [
    "%%time\n",
    "\n",
    "input_ids = tokenizer(prompt,\n",
    "                      return_tensors = \"pt\").to(\"cuda\")\n",
    "input_ids"
   ]
  },
  {
   "cell_type": "code",
   "execution_count": 235,
   "metadata": {},
   "outputs": [
    {
     "name": "stderr",
     "output_type": "stream",
     "text": [
      "C:\\Users\\Administrator\\Desktop\\Projects\\Local_LLM_RAG\\simple-local-rag\\venv\\Lib\\site-packages\\transformers\\models\\gemma\\modeling_gemma.py:561: UserWarning: 1Torch was not compiled with flash attention. (Triggered internally at ..\\aten\\src\\ATen\\native\\transformers\\cuda\\sdp_utils.cpp:455.)\n",
      "  attn_output = torch.nn.functional.scaled_dot_product_attention(\n"
     ]
    },
    {
     "name": "stdout",
     "output_type": "stream",
     "text": [
      "Model Output (tokens):\n",
      "tensor([     2,      2,    106,   1645,    108,   2299,    729,    573,   6895,\n",
      "          4665,    576,   3949,  20348,    575,  36130, 235284, 235304,    107,\n",
      "           108,    106,   2516,    108, 235285,   1144,  14321,    577,   3684,\n",
      "          1879, 235290,   1602,   2113, 235269,   5852,    590,   2952,   3658,\n",
      "           476,   6895,   4665,  13367,    604,   3949,  20348,    575,  36130,\n",
      "        235284, 235304, 235265,   1699,    573,   1546,    908, 235290,    511,\n",
      "        235290,   1545,   6895,   2113, 235269,   3743,   4773,    577,   3949,\n",
      "         20348, 235303, 235256,   5613,   6895,   8134,    578,  68170, 235265,\n",
      "             1], device='cuda:0')\n",
      "\n"
     ]
    }
   ],
   "source": [
    "### Generate outputs\n",
    "outputs = llm_model.generate(**input_ids,\n",
    "                             max_new_tokens = 256)\n",
    "print(f\"Model Output (tokens):\\n{outputs[0]}\\n\")"
   ]
  },
  {
   "cell_type": "code",
   "execution_count": 236,
   "metadata": {},
   "outputs": [
    {
     "name": "stdout",
     "output_type": "stream",
     "text": [
      "Model Output (decoded):\n",
      "<bos><bos><start_of_turn>user\n",
      "How was the financial performance of Smucker in FY23<end_of_turn>\n",
      "<start_of_turn>model\n",
      "I am unable to access real-time information, therefore I cannot provide a financial performance summary for Smucker in FY23. For the most up-to-date financial information, please refer to Smucker's official financial reports and announcements.<eos>\n",
      "\n"
     ]
    }
   ],
   "source": [
    "### Decode the output to text\n",
    "outputs_decoded = tokenizer.decode(outputs[0])\n",
    "print(f\"Model Output (decoded):\\n{outputs_decoded}\\n\")"
   ]
  },
  {
   "cell_type": "markdown",
   "metadata": {},
   "source": [
    "## Create a prompt that has the retreived piece of text <a class='anchor' id=\"#fifth-bullet\"></a>"
   ]
  },
  {
   "cell_type": "markdown",
   "metadata": {},
   "source": [
    "#### Augment our prompt with context items \n",
    "* Ref: https://www.promptingguide.ai/\n",
    "* Ref: https://github.com/brexhq/prompt-engineering\n",
    "* Ref: https://arxiv.org/abs/2401.14423"
   ]
  },
  {
   "cell_type": "markdown",
   "metadata": {},
   "source": [
    "#### Prompt Setup:\n",
    "1. Give Clear Instructions\n",
    "2. Few Ex: of OP/IP \n",
    "3. Give room to think (Step by Step)"
   ]
  },
  {
   "cell_type": "code",
   "execution_count": 294,
   "metadata": {},
   "outputs": [],
   "source": [
    "query = 'What were the Divestiture Costs for Sahale Snacks'"
   ]
  },
  {
   "cell_type": "code",
   "execution_count": 295,
   "metadata": {},
   "outputs": [],
   "source": [
    "#### 1st Pass without Prompt Engineering or Templating "
   ]
  },
  {
   "cell_type": "code",
   "execution_count": 296,
   "metadata": {},
   "outputs": [
    {
     "name": "stdout",
     "output_type": "stream",
     "text": [
      "Query : What were the Divestiture Costs for Sahale Snacks\n",
      "[INFO] time taken to get scores on (239 embeddings : 0.00009 sec.\n",
      "Based on the following context items, please answer the query. \n",
      "    Give yourself room to think by extracting the relevant passages from the context before answering the query. Dont return the thinking, only return the answer. Make sure the answer are as explanatory as possible.\n",
      "    Use the following examples as reference for the ideal answer style. \n",
      "    \n",
      "Example 1:\n",
      "    Query: What was Smucker's total revenue for the fiscal year 2023?\n",
      "    Answer: According to Smucker's financial report for the fiscal year 2023, the total revenue was $8.03 billion, representing a 3.5% increase compared to the previous fiscal year. \n",
      "    \n",
      "Example 2:\n",
      "    Query: How did Smucker's pet food segment perform in the last fiscal year?\n",
      "    Answer: Smucker's pet food segment reported a revenue of $2.2 billion for the fiscal year 2023, marking a 5% growth year-over-year. This growth was driven by strong performance in brands like Meow Mix and Milk-Bone.\n",
      "    \n",
      "Example 3:\n",
      "    Query: What are Smucker's strategic priorities for the next fiscal year?\n",
      "    Answer: Smucker's strategic priorities for the next fiscal year include accelerating growth in core brands, expanding their presence in high-growth categories, investing in digital transformation, and enhancing supply chain efficiencies to drive long-term value for shareholders.\n",
      "    \n",
      "Now use the following context items to answer the user query:\n",
      "    - We recognized a pre-tax loss of $5.7 during 2024, within other operating expense (income) – net in the Statement of Consolidated Income. On November 1, 2023, we sold the Sahale Snacks business to Second Nature. The transaction included products sold under the Sahale Snacks brand, inclusive of certain trademarks and licensing agreements, a leased manufacturing facility in Seattle, Washington, and approximately 100 employees who supported the brand. Under our ownership, the Sahale Snacks brand generated net sales of $24.1, $48.4, and $47.4 in 2024, 2023, and 2022, respectively, primarily included in the U. S. Retail Frozen Handheld and Spreads segment. Final net proceeds from the divestiture were $31.6, inclusive of a working capital adjustment and cash transaction costs. We recognized a pre-tax loss of $6.7 during 2024, within other operating expense (income) – net in the Statement of Consolidated Income.65\n",
      "- Divestitures On January 2, 2024, we sold our Canada condiment business to TreeHouse Foods. The transaction included Bick’s pickles, Habitant pickled beets, Woodman’s horseradish, and McLarens pickled onions brands, inclusive of certain trademarks. Under our ownership, these brands generated net sales of $43.8, $61.6, and $62.7 in 2024, 2023, and 2022, respectively, which were included in the International operating segment. Final net proceeds from the divestiture were $25.3, inclusive of a working capital adjustment and cash transaction costs. We recognized a pre-tax loss of $5.7 during 2024, within other operating expense (income) – net in the Statement of Consolidated Income. On November 1, 2023, we sold our Sahale Snacks business to Second Nature. The transaction included products sold under our Sahale Snacks brand, inclusive of certain trademarks and licensing agreements, a leased manufacturing facility in Seattle, Washington, and approximately 100 employees who supported the brand. Under our ownership, the Sahale Snacks brand generated net sales of $24.1, $48.4, and $47.4 in 2024, 2023, and 2022, respectively, primarily included in the U. S. Retail Frozen Handheld and Spreads segment. Final net proceeds from the divestiture were $31.6, inclusive of a working capital adjustment and cash transaction costs. We recognized a pre-tax loss of $-6.7 during 2024, within other operating expense (income) – net in the Statement of Consolidated Income.\n",
      "- Additionally, we sell products both domestically and in foreign countries through retail channels and foodservice distributors and operators through the Sweet Baked Snacks segment and the combined International and Away From Home operating segments. During 2024, the historical U. S. Retail Consumer Foods reportable segment was renamed to U. S. Retail Frozen Handheld and Spreads; however, there was no change to the manner in which the segment was previously presented. For additional information on our reportable segments, see Note 5: Reportable Segments. On January 2, 2024, we sold the Canada condiment business to TreeHouse Foods, Inc. (“TreeHouse Foods”). The transaction included Bick’s® pickles, Habitant® pickled beets, Woodman’s® horseradish, and McLarens® pickled onions brands, inclusive of certain trademarks. Under our ownership, these brands generated net sales of $43.8, $61.6, and $62.7 in 2024, 2023, and 2022, respectively, which were included in the International operating segment. On November 1, 2023, we sold the Sahale Snacks® business to Second Nature Brands (“Second Nature”). The transaction included products sold under the Sahale Snacks brand, inclusive of certain trademarks and licensing agreements, a leased manufacturing facility in Seattle, Washington, and approximately 100 employees who supported the brand. Under our ownership, the Sahale Snacks brand generated net sales of $24.1, $48.4, and $47.4 in 2024, 2023, and 2022, respectively, primarily included in the U. S. Retail Frozen Handheld and Spreads segment. On April 28, 2023, we sold certain pet food brands to Post Holdings, Inc. (“Post”).\n",
      "- The following table summarizes the net assets and liabilities disposed, which were measured at the lower of carrying amount or fair value less costs to sell. April 30, 2024 Condiment Sahale Snacks Assets disposed: Inventories $ 23.9 $ 9.9 Property, plant, and equipment – net  —  6.0 Operating lease right-of-use assets  —  1.8 Goodwill  —  11.5 Other intangible assets – net  7.1  14.7 Other noncurrent assets  —  0.3 Total assets disposed $ 31.0 $ 44.2 Liabilities disposed: Other current liabilities $ — $ 0.8 Deferred income taxes  —  4.1 Other noncurrent liabilities  —  1.0 Total liabilities disposed  —  5.9 Net assets disposed $ 31.0 $ 38.3 On April 28, 2023, we sold certain pet food brands to Post. The transaction included the Rachael Ray Nutrish, 9Lives, Kibbles ’n Bits, Nature’s Recipe, and Gravy Train brands, as well as the private label pet food business, inclusive of certain trademarks and licensing agreements, manufacturing and distribution facilities in Bloomsburg, Pennsylvania, manufacturing facilities in Meadville, Pennsylvania and Lawrence, Kansas, and approximately 1,100 employees who supported these pet food brands. Under our ownership, these brands generated net sales of $1.5 billion and $1.4 billion in 2023 and 2022, respectively, primarily included in the U. S. Retail Pet Foods segment. Final net proceeds from the divestiture were $1.2 billion, consisting of $683.9 in cash, net of a working capital adjustment and cash transaction costs, and approximately 5.4 million shares of Post common stock, valued at $491.6 at the close of the transaction. We recognized a pre-tax loss of $1.0 billion upon completion of this transaction during 2023, within other operating expense (income) – net in the Statement of Consolidated Income. During 2024, we finalized the working capital adjustment and transaction costs, which resulted in an immaterial adjustment to the pre-tax loss. Furthermore, during 2024, we entered into equity forward derivative transactions under an agreement with an unrelated third-party to facilitate the forward sale of the Post common stock. All 5.4 million shares of Post common stock were settled for $466.3 under the equity forward contract on November 15, 2023. For additional information, see Note 10: Derivative Financial Instruments.\n",
      "- Note 4: Special Project Costs  Special project costs consist primarily of employee-related costs and other transition and termination costs related to certain divestiture, acquisition, integration, and restructuring activities. Employee-related costs include severance, retention bonuses, and relocation costs. Severance costs are generally recognized when deemed probable and estimable, retention bonuses are recognized over the estimated future service period of the impacted employees, and relocation costs are expensed as incurred. Other transition and termination costs include fixed asset-related charges, contract and lease termination costs, professional fees, and other miscellaneous expenditures associated with divestiture, acquisition, integration, and restructuring activities. With the exception of accelerated depreciation, these costs are expensed as incurred. These special project costs are reported in cost of products sold, other special project costs, other debt costs, and other income (expense) - net in the Statements of Consolidated Income and are not allocated to segment profit. The obligation related to employee separation costs is included in other current liabilities in the Consolidated Balance Sheets. Divestiture Costs: Total divestiture costs related to the divested Sahale Snacks and Canada condiment businesses are anticipated to be approximately $6.0, consisting primarily of employee-related and lease termination costs, all of which are expected to be cash charges with the majority recognized in 2024 and the remainder to be recognized during the first half of 2025. We incurred $3.9 of employee-related costs and $1.6 of other transition and termination costs related to lease termination costs during 2024. The obligation related to severance and retention bonuses was $2.5 at April 30, 2024, and is expected to be settled during the first half of 2025.\n",
      "    \n",
      "Relevant passages: <extract relevant passages from the context here>\n",
      "    Query: What were the Divestiture Costs for Sahale Snacks\n",
      "    Answer:\n",
      "    \n"
     ]
    }
   ],
   "source": [
    "def prompt_formatter(query:str,\n",
    "                     context_items:list[dict]) -> str:\n",
    "    context = \"- \" + \"\\n- \".join([item['sentence_chunk'] for item in context_items])\n",
    "    base_prompt = \"\"\"Based on the following context items, please answer the query. \n",
    "    Give yourself room to think by extracting the relevant passages from the context before answering the query. Dont return the thinking, only return the answer. Make sure the answer are as explanatory as possible.\n",
    "    Use the following examples as reference for the ideal answer style. \n",
    "    \\nExample 1:\n",
    "    Query: What was Smucker's total revenue for the fiscal year 2023?\n",
    "    Answer: According to Smucker's financial report for the fiscal year 2023, the total revenue was $8.03 billion, representing a 3.5% increase compared to the previous fiscal year. \n",
    "    \\nExample 2:\n",
    "    Query: How did Smucker's pet food segment perform in the last fiscal year?\n",
    "    Answer: Smucker's pet food segment reported a revenue of $2.2 billion for the fiscal year 2023, marking a 5% growth year-over-year. This growth was driven by strong performance in brands like Meow Mix and Milk-Bone.\n",
    "    \\nExample 3:\n",
    "    Query: What are Smucker's strategic priorities for the next fiscal year?\n",
    "    Answer: Smucker's strategic priorities for the next fiscal year include accelerating growth in core brands, expanding their presence in high-growth categories, investing in digital transformation, and enhancing supply chain efficiencies to drive long-term value for shareholders.\n",
    "    \\nNow use the following context items to answer the user query:\n",
    "    {context}\n",
    "    \\nRelevant passages: <extract relevant passages from the context here>\n",
    "    Query: {query}\n",
    "    Answer:\n",
    "    \"\"\"\n",
    "    prompt = base_prompt.format(context = context, query = query)\n",
    "\n",
    "    ## Create a prompt template for instruction-tuned model\n",
    "    # dialogue_template = [\n",
    "    #     {\"role\":\"user\",\n",
    "    #      \"context\":base_prompt}]\n",
    "    # prompt = tokenizer.apply_chat_template(conversation = dialogue_template,\n",
    "    #                                        tokenize = False,\n",
    "    #                                        add_generation_prompt= True)\n",
    "        \n",
    "    return prompt\n",
    "\n",
    "query = query\n",
    "print(f\"Query : {query}\")\n",
    "\n",
    "scores, indices = retreive_relevant_resources(query = query,\n",
    "                                              embeddings= embeddings)\n",
    "\n",
    "context_items = [pages_and_chunks[i] for i in indices]\n",
    "\n",
    "prompt = prompt_formatter(query = query,\n",
    "                          context_items = context_items)\n",
    "print(prompt)"
   ]
  },
  {
   "cell_type": "code",
   "execution_count": 259,
   "metadata": {},
   "outputs": [
    {
     "name": "stdout",
     "output_type": "stream",
     "text": [
      "Query: What were the Divestiture Costs for Sahale Snacks\n",
      "RAG answer:\\m<bos>The divesture costs for Sahale Snacks are approximately $6.0, consisting primarily of employee-related and lease termination costs, all of which are expected to be cash charges with the majority recognized in 2024 and the remainder to be recognized during the first half of 2025.<eos>\n",
      "CPU times: total: 4.14 s\n",
      "Wall time: 4.24 s\n"
     ]
    }
   ],
   "source": [
    "%%time\n",
    "input_ids = tokenizer(prompt, return_tensors = \"pt\").to(\"cuda\")\n",
    "\n",
    "outputs = llm_model.generate(**input_ids,\n",
    "                             temperature = 0.2,\n",
    "                             do_sample = True, #https://huyenchip.com/2024/01/16/sampling.html\n",
    "                             max_new_tokens = 256)\n",
    "\n",
    "output_text = tokenizer.decode(outputs[0])\n",
    "print(f\"Query: {query}\")\n",
    "print(f\"RAG answer:\\m{output_text.replace(prompt,'')}\")"
   ]
  },
  {
   "cell_type": "markdown",
   "metadata": {},
   "source": [
    "#### After Prompt Templating \n"
   ]
  },
  {
   "cell_type": "code",
   "execution_count": 261,
   "metadata": {},
   "outputs": [
    {
     "name": "stdout",
     "output_type": "stream",
     "text": [
      "Query: What were the Divestiture Costs for Sahale Snacks\n",
      "RAG answer:\\m<bos>Total divestiture costs related to the divested Sahale Snacks and Canada condiment businesses are anticipated to be approximately $6.0, consisting primarily of employee-related and lease termination costs, all of which are expected to be cash charges with the majority recognized in 2024 and the remainder to be recognized during the first half of 2025.<eos>\n",
      "CPU times: total: 4.95 s\n",
      "Wall time: 5.08 s\n"
     ]
    }
   ],
   "source": [
    "%%time\n",
    "input_ids = tokenizer(prompt, return_tensors = \"pt\").to(\"cuda\")\n",
    "\n",
    "outputs = llm_model.generate(**input_ids,\n",
    "                             temperature = 0.2,\n",
    "                             do_sample = True, #https://huyenchip.com/2024/01/16/sampling.html\n",
    "                             max_new_tokens = 256)\n",
    "\n",
    "output_text = tokenizer.decode(outputs[0])\n",
    "print(f\"Query: {query}\")\n",
    "print(f\"RAG answer:\\m{output_text.replace(prompt,'')}\")"
   ]
  },
  {
   "cell_type": "code",
   "execution_count": 291,
   "metadata": {},
   "outputs": [],
   "source": [
    "def ask(query, \n",
    "        temperature=0.2,\n",
    "        max_new_tokens=512,\n",
    "        format_answer_text=True, \n",
    "        return_answer_only=True):\n",
    "    \"\"\"\n",
    "    Takes a query, finds relevant resources/context and generates an answer to the query based on the relevant resources.\n",
    "    \"\"\"\n",
    "    \n",
    "    # Get just the scores and indices of top related results\n",
    "    scores, indices = retreive_relevant_resources(query=query,\n",
    "                                                  embeddings=embeddings)\n",
    "    \n",
    "    # Create a list of context items\n",
    "    context_items = [pages_and_chunks[i] for i in indices]\n",
    "\n",
    "    # Add score to context item\n",
    "    for i, item in enumerate(context_items):\n",
    "        item[\"score\"] = scores[i].cpu() # return score back to CPU \n",
    "        \n",
    "    # Format the prompt with context items\n",
    "    prompt = prompt_formatter(query=query,\n",
    "                              context_items=context_items)\n",
    "    \n",
    "    # Tokenize the prompt\n",
    "    input_ids = tokenizer(prompt, return_tensors=\"pt\").to(\"cuda\")\n",
    "\n",
    "    # Generate an output of tokens\n",
    "    outputs = llm_model.generate(**input_ids,\n",
    "                                 temperature=temperature,\n",
    "                                 do_sample=True,\n",
    "                                 max_new_tokens=1024)\n",
    "    \n",
    "    # Turn the output tokens into text\n",
    "    output_text = tokenizer.decode(outputs[0])\n",
    "\n",
    "    if format_answer_text:\n",
    "        # Replace special tokens and unnecessary help message\n",
    "        output_text = output_text.replace(prompt, \"\").replace(\"<bos>\", \"\").replace(\"<eos>\", \"\").replace(\"Sure, here is the answer to the user query:\\n\\n\", \"\")\n",
    "\n",
    "    # Only return the answer without the context items\n",
    "    if return_answer_only:\n",
    "        return output_text\n",
    "    \n",
    "    return output_text, context_items"
   ]
  },
  {
   "cell_type": "code",
   "execution_count": 292,
   "metadata": {},
   "outputs": [],
   "source": [
    "query = 'Tell me all about the Hostess Brand acquisition?'"
   ]
  },
  {
   "cell_type": "code",
   "execution_count": 293,
   "metadata": {},
   "outputs": [
    {
     "name": "stdout",
     "output_type": "stream",
     "text": [
      "Query:Tell me all about the Hostess Brand acquisition?\n",
      "[INFO] time taken to get scores on (239 embeddings : 0.00005 sec.\n"
     ]
    },
    {
     "data": {
      "text/plain": [
       "'The Hostess Brands acquisition involved the acquisition of Hostess Brands for $5.4 billion in cash and stock. The acquisition included six manufacturing facilities located in Kansas, Burlington, Ontario; Chicago, Illinois; Columbus, Georgia; Indianapolis, Indiana; and Arkadelphia, Arkansas. Approximately 3,000 employees transitioned with the business at the close of the transaction.'"
      ]
     },
     "execution_count": 293,
     "metadata": {},
     "output_type": "execute_result"
    }
   ],
   "source": [
    "print(f\"Query:{query}\")\n",
    "ask(query=query)"
   ]
  },
  {
   "cell_type": "code",
   "execution_count": null,
   "metadata": {},
   "outputs": [],
   "source": []
  }
 ],
 "metadata": {
  "kernelspec": {
   "display_name": "Python 3 (ipykernel)",
   "language": "python",
   "name": "python3"
  },
  "language_info": {
   "codemirror_mode": {
    "name": "ipython",
    "version": 3
   },
   "file_extension": ".py",
   "mimetype": "text/x-python",
   "name": "python",
   "nbconvert_exporter": "python",
   "pygments_lexer": "ipython3",
   "version": "3.11.9"
  }
 },
 "nbformat": 4,
 "nbformat_minor": 4
}
